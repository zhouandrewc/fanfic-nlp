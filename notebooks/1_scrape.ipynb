{
 "cells": [
  {
   "cell_type": "markdown",
   "metadata": {},
   "source": [
    "# Scraping"
   ]
  },
  {
   "cell_type": "markdown",
   "metadata": {},
   "source": [
    "This notebook uses routines from [```scrape.py```](../util/scrape.py) to scrape fanfiction from [Archive of our Own](http://archiveofourown.org) (AO3). We've chosen to focus on <i>Avatar: The Last Airbender</i> (which we'll call Avatar) fanfiction for this project."
   ]
  },
  {
   "cell_type": "code",
   "execution_count": 1,
   "metadata": {
    "execution": {
     "iopub.execute_input": "2020-11-17T16:36:15.416135Z",
     "iopub.status.busy": "2020-11-17T16:36:15.415940Z",
     "iopub.status.idle": "2020-11-17T16:36:15.830469Z",
     "shell.execute_reply": "2020-11-17T16:36:15.829837Z",
     "shell.execute_reply.started": "2020-11-17T16:36:15.416114Z"
    }
   },
   "outputs": [],
   "source": [
    "import sys\n",
    "sys.path.append(\"..\")\n",
    "\n",
    "from util.scrape import get_search_url, get_works_info, scrape_fic_list\n",
    "import numpy as np\n",
    "\n",
    "%load_ext autoreload\n",
    "%autoreload 2"
   ]
  },
  {
   "cell_type": "markdown",
   "metadata": {},
   "source": [
    "We define our search query: completed Avatar fanfiction (\"fics\") with at least 400 kudos. We restrict ourselves to English-language works."
   ]
  },
  {
   "cell_type": "code",
   "execution_count": 2,
   "metadata": {
    "execution": {
     "iopub.execute_input": "2020-11-17T16:36:17.413197Z",
     "iopub.status.busy": "2020-11-17T16:36:17.412954Z",
     "iopub.status.idle": "2020-11-17T16:36:17.436246Z",
     "shell.execute_reply": "2020-11-17T16:36:17.435592Z",
     "shell.execute_reply.started": "2020-11-17T16:36:17.413172Z"
    }
   },
   "outputs": [],
   "source": [
    "avatar_search = get_search_url(\"Avatar: The Last Airbender\", min_kudos=400, complete=True, english_only=True)"
   ]
  },
  {
   "cell_type": "code",
   "execution_count": 3,
   "metadata": {
    "execution": {
     "iopub.execute_input": "2020-11-17T16:36:21.775265Z",
     "iopub.status.busy": "2020-11-17T16:36:21.775006Z",
     "iopub.status.idle": "2020-11-17T16:36:21.805111Z",
     "shell.execute_reply": "2020-11-17T16:36:21.804488Z",
     "shell.execute_reply.started": "2020-11-17T16:36:21.775237Z"
    }
   },
   "outputs": [
    {
     "data": {
      "text/plain": [
       "'https://archiveofourown.org/works/search?utf8=✓&work_search[complete]=T&work_search[crossover]=F&work_search[fandom_names]=Avatar: The Last Airbender&work_search[single_chapter]=&work_search[language_id]=en&work_search[kudos_count]=>400&work_search[sort_column]=created_at&work_search[sort_direction]=desc'"
      ]
     },
     "execution_count": 3,
     "metadata": {},
     "output_type": "execute_result"
    }
   ],
   "source": [
    "avatar_search"
   ]
  },
  {
   "cell_type": "markdown",
   "metadata": {},
   "source": [
    "Let's scrape the search page to collect metadata for fics we would like to include in our corpus. Here we restrict our collection to works that are not in a series (some authors post dozens of chapters as individual fics, which biases our data towards those few authors) and are longer than 1000 words."
   ]
  },
  {
   "cell_type": "code",
   "execution_count": 59,
   "metadata": {
    "execution": {
     "iopub.execute_input": "2020-11-15T15:29:32.966482Z",
     "iopub.status.busy": "2020-11-15T15:29:32.966260Z",
     "iopub.status.idle": "2020-11-15T15:42:06.303050Z",
     "shell.execute_reply": "2020-11-15T15:42:06.302485Z",
     "shell.execute_reply.started": "2020-11-15T15:29:32.966458Z"
    },
    "scrolled": true
   },
   "outputs": [
    {
     "name": "stdout",
     "output_type": "stream",
     "text": [
      "2358 potential matches found\n",
      "getting page 1, 2000 works left\n",
      "getting page 6, 1957 works left\n",
      "getting page 11, 1904 works left\n",
      "getting page 16, 1864 works left\n",
      "getting page 21, 1828 works left\n",
      "getting page 26, 1782 works left\n",
      "getting page 31, 1730 works left\n",
      "getting page 36, 1682 works left\n",
      "getting page 41, 1630 works left\n",
      "getting page 46, 1580 works left\n",
      "getting page 51, 1531 works left\n",
      "getting page 56, 1487 works left\n",
      "getting page 61, 1451 works left\n",
      "getting page 66, 1412 works left\n",
      "getting page 71, 1385 works left\n",
      "getting page 76, 1343 works left\n",
      "getting page 81, 1301 works left\n",
      "getting page 86, 1260 works left\n",
      "getting page 91, 1200 works left\n",
      "getting page 96, 1156 works left\n",
      "getting page 101, 1114 works left\n",
      "getting page 106, 1062 works left\n",
      "getting page 111, 1012 works left\n",
      "getting page 116, 967 works left\n",
      "ran out of fics with 937 left\n"
     ]
    }
   ],
   "source": [
    "works_info = get_works_info(avatar_search, 2000, word_range=(1000,0), exclude_series=True)"
   ]
  },
  {
   "cell_type": "markdown",
   "metadata": {},
   "source": [
    "The above was run 11/15/20 at 7:42 AM, but wasn't saved and a rerun would be different. Let's see an example of the format."
   ]
  },
  {
   "cell_type": "code",
   "execution_count": 5,
   "metadata": {
    "execution": {
     "iopub.execute_input": "2020-11-17T16:37:07.793150Z",
     "iopub.status.busy": "2020-11-17T16:37:07.792925Z",
     "iopub.status.idle": "2020-11-17T16:37:20.816071Z",
     "shell.execute_reply": "2020-11-17T16:37:20.815126Z",
     "shell.execute_reply.started": "2020-11-17T16:37:07.793124Z"
    }
   },
   "outputs": [
    {
     "name": "stdout",
     "output_type": "stream",
     "text": [
      "2370 potential matches found\n",
      "getting page 1, 20 works left\n",
      "finished\n"
     ]
    }
   ],
   "source": [
    "example = get_works_info(avatar_search, 20, exclude_series=True)"
   ]
  },
  {
   "cell_type": "code",
   "execution_count": 8,
   "metadata": {
    "execution": {
     "iopub.execute_input": "2020-11-17T16:38:13.540633Z",
     "iopub.status.busy": "2020-11-17T16:38:13.540406Z",
     "iopub.status.idle": "2020-11-17T16:38:13.564947Z",
     "shell.execute_reply": "2020-11-17T16:38:13.564332Z",
     "shell.execute_reply.started": "2020-11-17T16:38:13.540607Z"
    }
   },
   "outputs": [
    {
     "data": {
      "text/plain": [
       "{'work_id': '27388627',\n",
       " 'rating': 'general',\n",
       " 'lang': 'English',\n",
       " 'words': 1476,\n",
       " 'chapters': 1,\n",
       " 'date': '04 Nov 2020',\n",
       " 'series': {},\n",
       " 'author': 'lesmiserablol',\n",
       " 'all_authors': ['lesmiserablol']}"
      ]
     },
     "execution_count": 8,
     "metadata": {},
     "output_type": "execute_result"
    }
   ],
   "source": [
    "example[0]"
   ]
  },
  {
   "cell_type": "markdown",
   "metadata": {},
   "source": [
    "We pass an array of similar metadata to ```scrape_fic_list```, which will use ```work_id``` to find the fanfiction's URL and scrape its text."
   ]
  },
  {
   "cell_type": "code",
   "execution_count": 60,
   "metadata": {
    "execution": {
     "iopub.execute_input": "2020-11-15T15:50:29.653195Z",
     "iopub.status.busy": "2020-11-15T15:50:29.652968Z",
     "iopub.status.idle": "2020-11-15T17:46:52.685229Z",
     "shell.execute_reply": "2020-11-15T17:46:52.684645Z",
     "shell.execute_reply.started": "2020-11-15T15:50:29.653171Z"
    },
    "scrolled": true
   },
   "outputs": [
    {
     "name": "stdout",
     "output_type": "stream",
     "text": [
      "beginning scrape...\n",
      "scraping fic 1/1063\n",
      "scraping fic 31/1063\n",
      "scraping fic 61/1063\n",
      "scraping fic 91/1063\n",
      "scraping fic 121/1063\n",
      "scraping fic 151/1063\n",
      "scraping fic 181/1063\n",
      "scraping fic 211/1063\n",
      "scraping fic 241/1063\n",
      "scraping fic 271/1063\n",
      "scraping fic 301/1063\n",
      "scraping fic 331/1063\n",
      "scraping fic 361/1063\n",
      "scraping fic 391/1063\n",
      "scraping fic 421/1063\n",
      "scraping fic 451/1063\n",
      "scraping fic 481/1063\n",
      "scraping fic 511/1063\n",
      "scraping fic 541/1063\n",
      "scraping fic 571/1063\n",
      "scraping fic 601/1063\n",
      "scraping fic 631/1063\n",
      "scraping fic 661/1063\n",
      "scraping fic 691/1063\n",
      "scraping fic 721/1063\n",
      "scraping fic 751/1063\n",
      "scraping fic 781/1063\n",
      "scraping fic 811/1063\n",
      "scraping fic 841/1063\n",
      "scraping fic 871/1063\n",
      "scraping fic 901/1063\n",
      "scraping fic 931/1063\n",
      "scraping fic 961/1063\n",
      "scraping fic 991/1063\n",
      "scraping fic 1021/1063\n",
      "scraping fic 1051/1063\n"
     ]
    }
   ],
   "source": [
    "fic_df = scrape_fic_list(works_info, print_every=30)"
   ]
  },
  {
   "cell_type": "markdown",
   "metadata": {},
   "source": [
    "Here's what the first few entries look like."
   ]
  },
  {
   "cell_type": "code",
   "execution_count": 13,
   "metadata": {
    "execution": {
     "iopub.execute_input": "2020-11-17T16:39:53.804792Z",
     "iopub.status.busy": "2020-11-17T16:39:53.804559Z",
     "iopub.status.idle": "2020-11-17T16:39:53.842441Z",
     "shell.execute_reply": "2020-11-17T16:39:53.841828Z",
     "shell.execute_reply.started": "2020-11-17T16:39:53.804766Z"
    }
   },
   "outputs": [
    {
     "data": {
      "text/html": [
       "<div>\n",
       "<style scoped>\n",
       "    .dataframe tbody tr th:only-of-type {\n",
       "        vertical-align: middle;\n",
       "    }\n",
       "\n",
       "    .dataframe tbody tr th {\n",
       "        vertical-align: top;\n",
       "    }\n",
       "\n",
       "    .dataframe thead th {\n",
       "        text-align: right;\n",
       "    }\n",
       "</style>\n",
       "<table border=\"1\" class=\"dataframe\">\n",
       "  <thead>\n",
       "    <tr style=\"text-align: right;\">\n",
       "      <th></th>\n",
       "      <th>work_id</th>\n",
       "      <th>rating</th>\n",
       "      <th>lang</th>\n",
       "      <th>words</th>\n",
       "      <th>chapters</th>\n",
       "      <th>date</th>\n",
       "      <th>series</th>\n",
       "      <th>author</th>\n",
       "      <th>all_authors</th>\n",
       "      <th>title</th>\n",
       "      <th>text</th>\n",
       "      <th>relationships</th>\n",
       "      <th>chars</th>\n",
       "      <th>tags</th>\n",
       "    </tr>\n",
       "  </thead>\n",
       "  <tbody>\n",
       "    <tr>\n",
       "      <th>0</th>\n",
       "      <td>27388627</td>\n",
       "      <td>general</td>\n",
       "      <td>English</td>\n",
       "      <td>1476</td>\n",
       "      <td>1</td>\n",
       "      <td>04 Nov 2020</td>\n",
       "      <td>{}</td>\n",
       "      <td>lesmiserablol</td>\n",
       "      <td>[lesmiserablol]</td>\n",
       "      <td>the water's rough (but this love is ours)</td>\n",
       "      <td>\\nZuko is not surprised in the slightest when ...</td>\n",
       "      <td>[Sokka/Zuko (Avatar)]</td>\n",
       "      <td>[Sokka (Avatar), Zuko (Avatar)]</td>\n",
       "      <td>[Hurt/Comfort, Established Relationship, Chron...</td>\n",
       "    </tr>\n",
       "    <tr>\n",
       "      <th>1</th>\n",
       "      <td>27288721</td>\n",
       "      <td>general</td>\n",
       "      <td>English</td>\n",
       "      <td>2540</td>\n",
       "      <td>1</td>\n",
       "      <td>30 Oct 2020</td>\n",
       "      <td>{}</td>\n",
       "      <td>Haicrescendo</td>\n",
       "      <td>[Haicrescendo]</td>\n",
       "      <td>Amateur Theatrics</td>\n",
       "      <td>Toph doesn’t give two shits about books or scr...</td>\n",
       "      <td>[Toph Beifong &amp; Zuko]</td>\n",
       "      <td>[Toph Beifong, Zuko (Avatar), Aang (Avatar)]</td>\n",
       "      <td>[no ships here we die like men, fuck around an...</td>\n",
       "    </tr>\n",
       "    <tr>\n",
       "      <th>2</th>\n",
       "      <td>27241933</td>\n",
       "      <td>teen</td>\n",
       "      <td>English</td>\n",
       "      <td>7232</td>\n",
       "      <td>1</td>\n",
       "      <td>28 Oct 2020</td>\n",
       "      <td>{}</td>\n",
       "      <td>nights</td>\n",
       "      <td>[nights]</td>\n",
       "      <td>Love Amongst the Algorithm</td>\n",
       "      <td>Zuko’s thumb swipes the screen, again, again, ...</td>\n",
       "      <td>[Sokka/Zuko (Avatar)]</td>\n",
       "      <td>[Zuko (Avatar), Sokka (Avatar), Ty Lee (Avatar...</td>\n",
       "      <td>[Alternate Universe - Modern Setting, Alternat...</td>\n",
       "    </tr>\n",
       "  </tbody>\n",
       "</table>\n",
       "</div>"
      ],
      "text/plain": [
       "    work_id   rating     lang  words  chapters         date series  \\\n",
       "0  27388627  general  English   1476         1  04 Nov 2020     {}   \n",
       "1  27288721  general  English   2540         1  30 Oct 2020     {}   \n",
       "2  27241933     teen  English   7232         1  28 Oct 2020     {}   \n",
       "\n",
       "          author      all_authors                                      title  \\\n",
       "0  lesmiserablol  [lesmiserablol]  the water's rough (but this love is ours)   \n",
       "1   Haicrescendo   [Haicrescendo]                          Amateur Theatrics   \n",
       "2         nights         [nights]                 Love Amongst the Algorithm   \n",
       "\n",
       "                                                text          relationships  \\\n",
       "0  \\nZuko is not surprised in the slightest when ...  [Sokka/Zuko (Avatar)]   \n",
       "1  Toph doesn’t give two shits about books or scr...  [Toph Beifong & Zuko]   \n",
       "2  Zuko’s thumb swipes the screen, again, again, ...  [Sokka/Zuko (Avatar)]   \n",
       "\n",
       "                                               chars  \\\n",
       "0                    [Sokka (Avatar), Zuko (Avatar)]   \n",
       "1       [Toph Beifong, Zuko (Avatar), Aang (Avatar)]   \n",
       "2  [Zuko (Avatar), Sokka (Avatar), Ty Lee (Avatar...   \n",
       "\n",
       "                                                tags  \n",
       "0  [Hurt/Comfort, Established Relationship, Chron...  \n",
       "1  [no ships here we die like men, fuck around an...  \n",
       "2  [Alternate Universe - Modern Setting, Alternat...  "
      ]
     },
     "execution_count": 13,
     "metadata": {},
     "output_type": "execute_result"
    }
   ],
   "source": [
    "fic_df.head(3)"
   ]
  },
  {
   "cell_type": "markdown",
   "metadata": {},
   "source": [
    "Save our dataframe to a file."
   ]
  },
  {
   "cell_type": "code",
   "execution_count": 67,
   "metadata": {
    "execution": {
     "iopub.execute_input": "2020-11-15T17:53:04.970469Z",
     "iopub.status.busy": "2020-11-15T17:53:04.970242Z",
     "iopub.status.idle": "2020-11-15T17:53:04.993019Z",
     "shell.execute_reply": "2020-11-15T17:53:04.992352Z",
     "shell.execute_reply.started": "2020-11-15T17:53:04.970444Z"
    }
   },
   "outputs": [],
   "source": [
    "#fic_df.to_pickle(\"../data/avatar_fics_scraped.pickle\")"
   ]
  },
  {
   "cell_type": "markdown",
   "metadata": {},
   "source": [
    "Potential future work: don't put too many works from a single author in the corpus (especially if they're very short)."
   ]
  }
 ],
 "metadata": {
  "kernelspec": {
   "display_name": "Python 3",
   "language": "python",
   "name": "python3"
  },
  "language_info": {
   "codemirror_mode": {
    "name": "ipython",
    "version": 3
   },
   "file_extension": ".py",
   "mimetype": "text/x-python",
   "name": "python",
   "nbconvert_exporter": "python",
   "pygments_lexer": "ipython3",
   "version": "3.8.2"
  }
 },
 "nbformat": 4,
 "nbformat_minor": 4
}
