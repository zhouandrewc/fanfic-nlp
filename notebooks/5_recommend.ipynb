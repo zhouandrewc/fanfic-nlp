{
 "cells": [
  {
   "cell_type": "markdown",
   "metadata": {},
   "source": [
    "# Recommender Setup"
   ]
  },
  {
   "cell_type": "code",
   "execution_count": 39,
   "metadata": {
    "execution": {
     "iopub.execute_input": "2020-11-17T16:08:18.028978Z",
     "iopub.status.busy": "2020-11-17T16:08:18.028733Z",
     "iopub.status.idle": "2020-11-17T16:08:19.527312Z",
     "shell.execute_reply": "2020-11-17T16:08:19.526697Z",
     "shell.execute_reply.started": "2020-11-17T16:08:18.028954Z"
    }
   },
   "outputs": [],
   "source": [
    "import pickle\n",
    "import numpy as np\n",
    "import pandas as pd\n",
    "from gensim.similarities import Similarity\n",
    "from sklearn.metrics.pairwise import cosine_similarity"
   ]
  },
  {
   "cell_type": "markdown",
   "metadata": {},
   "source": [
    "We use Gensim's ```Similarity``` module to get cosine similarity between documents' topics. See the [documentation](https://radimrehurek.com/gensim/similarities/docsim.html).\n",
    "\n",
    "Let's create and save the ```Similarity``` object, then demonstrate its functionality. We will load this object in our recommender app."
   ]
  },
  {
   "cell_type": "code",
   "execution_count": 3,
   "metadata": {
    "execution": {
     "iopub.execute_input": "2020-11-17T15:40:05.821760Z",
     "iopub.status.busy": "2020-11-17T15:40:05.821546Z",
     "iopub.status.idle": "2020-11-17T15:40:05.824807Z",
     "shell.execute_reply": "2020-11-17T15:40:05.824098Z",
     "shell.execute_reply.started": "2020-11-17T15:40:05.821737Z"
    }
   },
   "outputs": [],
   "source": [
    "model_info = pickle.load(open(\"../models/avatar_model.pickle\", \"rb\"))\n",
    "model = model_info[\"model\"]\n",
    "dictionary = model_info[\"dict\"]\n",
    "corpus = model_info[\"corpus\"]"
   ]
  },
  {
   "cell_type": "code",
   "execution_count": 9,
   "metadata": {
    "execution": {
     "iopub.execute_input": "2020-11-17T15:48:20.042106Z",
     "iopub.status.busy": "2020-11-17T15:48:20.041892Z",
     "iopub.status.idle": "2020-11-17T15:48:22.520508Z",
     "shell.execute_reply": "2020-11-17T15:48:22.519988Z",
     "shell.execute_reply.started": "2020-11-17T15:48:20.042083Z"
    }
   },
   "outputs": [],
   "source": [
    "index = Similarity('temp', model[corpus], num_features = model.num_topics)\n",
    "index.save(\"../models/sim_index.pickle\")"
   ]
  },
  {
   "cell_type": "markdown",
   "metadata": {},
   "source": [
    "```Similarity``` takes advantage of sparseness to compute an estimate of cosine similarity between documents. It allows the user to quickly get the pairwise cosine similarities between all documents in a corpus, or to get the distance of any new document (given its topic distribution) to all the existing documents in the corpus."
   ]
  },
  {
   "cell_type": "markdown",
   "metadata": {},
   "source": [
    "Get the distances from document 0 to all the other documents:"
   ]
  },
  {
   "cell_type": "code",
   "execution_count": 21,
   "metadata": {
    "execution": {
     "iopub.execute_input": "2020-11-17T15:55:34.157808Z",
     "iopub.status.busy": "2020-11-17T15:55:34.157591Z",
     "iopub.status.idle": "2020-11-17T15:55:34.161902Z",
     "shell.execute_reply": "2020-11-17T15:55:34.161336Z",
     "shell.execute_reply.started": "2020-11-17T15:55:34.157784Z"
    }
   },
   "outputs": [
    {
     "data": {
      "text/plain": [
       "array([0.99999994, 0.32554293, 0.5997491 , ..., 0.7460016 , 0.07849149,\n",
       "       0.        ], dtype=float32)"
      ]
     },
     "execution_count": 21,
     "metadata": {},
     "output_type": "execute_result"
    }
   ],
   "source": [
    "index.similarity_by_id(0)"
   ]
  },
  {
   "cell_type": "markdown",
   "metadata": {},
   "source": [
    "Let's verify the accuracy."
   ]
  },
  {
   "cell_type": "code",
   "execution_count": 30,
   "metadata": {
    "execution": {
     "iopub.execute_input": "2020-11-17T16:00:58.684997Z",
     "iopub.status.busy": "2020-11-17T16:00:58.684760Z",
     "iopub.status.idle": "2020-11-17T16:00:58.693358Z",
     "shell.execute_reply": "2020-11-17T16:00:58.692665Z",
     "shell.execute_reply.started": "2020-11-17T16:00:58.684971Z"
    }
   },
   "outputs": [
    {
     "name": "stdout",
     "output_type": "stream",
     "text": [
      "[(1, 0.50612485), (7, 0.14371134), (8, 0.34252024)] [(1, 0.23142198), (2, 0.040100906), (3, 0.5694259), (7, 0.07503654), (9, 0.08157011)]\n"
     ]
    }
   ],
   "source": [
    "doc0_top = model[corpus[0]]\n",
    "doc1_top = model[corpus[1]]\n",
    "print(doc0_top, doc1_top)"
   ]
  },
  {
   "cell_type": "markdown",
   "metadata": {},
   "source": [
    "Convert these into dense array form."
   ]
  },
  {
   "cell_type": "code",
   "execution_count": 32,
   "metadata": {
    "execution": {
     "iopub.execute_input": "2020-11-17T16:01:35.879166Z",
     "iopub.status.busy": "2020-11-17T16:01:35.878935Z",
     "iopub.status.idle": "2020-11-17T16:01:35.884007Z",
     "shell.execute_reply": "2020-11-17T16:01:35.883281Z",
     "shell.execute_reply.started": "2020-11-17T16:01:35.879141Z"
    }
   },
   "outputs": [
    {
     "name": "stdout",
     "output_type": "stream",
     "text": [
      "[0.         0.50612485 0.         0.         0.         0.\n",
      " 0.         0.14371134 0.34252024 0.         0.        ] [0.         0.23142198 0.04010091 0.56942588 0.         0.\n",
      " 0.         0.07503654 0.         0.08157011 0.        ]\n"
     ]
    }
   ],
   "source": [
    "doc0_arr = np.zeros(model.num_topics)\n",
    "for topic, weight in doc0_top:\n",
    "    doc0_arr[topic] = weight\n",
    "doc1_arr = np.zeros(model.num_topics)\n",
    "for topic, weight in doc1_top:\n",
    "    doc1_arr[topic] = weight\n",
    "print(doc0_arr, doc1_arr)"
   ]
  },
  {
   "cell_type": "markdown",
   "metadata": {},
   "source": [
    "Verify the similarity, which should be approximately 0.3255"
   ]
  },
  {
   "cell_type": "code",
   "execution_count": 35,
   "metadata": {
    "execution": {
     "iopub.execute_input": "2020-11-17T16:02:15.187640Z",
     "iopub.status.busy": "2020-11-17T16:02:15.187397Z",
     "iopub.status.idle": "2020-11-17T16:02:15.192583Z",
     "shell.execute_reply": "2020-11-17T16:02:15.191783Z",
     "shell.execute_reply.started": "2020-11-17T16:02:15.187613Z"
    }
   },
   "outputs": [
    {
     "data": {
      "text/plain": [
       "array([[1.      , 0.325548],\n",
       "       [0.325548, 1.      ]])"
      ]
     },
     "execution_count": 35,
     "metadata": {},
     "output_type": "execute_result"
    }
   ],
   "source": [
    "cosine_similarity([doc0_arr, doc1_arr])"
   ]
  },
  {
   "cell_type": "markdown",
   "metadata": {},
   "source": [
    "As expected. Now note that we can also pass in the topics of an array to ```index``` and get the similarities to each document in the corpus."
   ]
  },
  {
   "cell_type": "code",
   "execution_count": 36,
   "metadata": {
    "execution": {
     "iopub.execute_input": "2020-11-17T16:03:09.122861Z",
     "iopub.status.busy": "2020-11-17T16:03:09.122648Z",
     "iopub.status.idle": "2020-11-17T16:03:09.127001Z",
     "shell.execute_reply": "2020-11-17T16:03:09.126351Z",
     "shell.execute_reply.started": "2020-11-17T16:03:09.122838Z"
    }
   },
   "outputs": [
    {
     "data": {
      "text/plain": [
       "array([1.        , 0.32554862, 0.599726  , ..., 0.74596924, 0.07848788,\n",
       "       0.        ], dtype=float32)"
      ]
     },
     "execution_count": 36,
     "metadata": {},
     "output_type": "execute_result"
    }
   ],
   "source": [
    "index[doc0_top]"
   ]
  },
  {
   "cell_type": "code",
   "execution_count": 38,
   "metadata": {
    "execution": {
     "iopub.execute_input": "2020-11-17T16:03:51.915868Z",
     "iopub.status.busy": "2020-11-17T16:03:51.915644Z",
     "iopub.status.idle": "2020-11-17T16:03:51.920478Z",
     "shell.execute_reply": "2020-11-17T16:03:51.919882Z",
     "shell.execute_reply.started": "2020-11-17T16:03:51.915843Z"
    }
   },
   "outputs": [
    {
     "data": {
      "text/plain": [
       "array([0.57003903, 0.26146775, 0.04861848, ..., 0.19564898, 0.5913024 ,\n",
       "       0.69760233], dtype=float32)"
      ]
     },
     "execution_count": 38,
     "metadata": {},
     "output_type": "execute_result"
    }
   ],
   "source": [
    "# A theoretical document with 50% weight to topic 0 and 50% to topic 1\n",
    "index[[(0, 0.5), (1, 0.5)]]"
   ]
  },
  {
   "cell_type": "markdown",
   "metadata": {},
   "source": [
    "We'll load the ```sim_index.pickle``` file in our recommender app and use it to make recommendations, by passing in the users' inputted text in topic format."
   ]
  },
  {
   "cell_type": "markdown",
   "metadata": {},
   "source": [
    "## Extra Setup"
   ]
  },
  {
   "cell_type": "markdown",
   "metadata": {},
   "source": [
    "Let's save some metadata for works in our database so we can access it without loading the entire corpus. We particularly want to avoid having to load the entire text; we can simply display the first few lines along with the title, author, and a link to the work."
   ]
  },
  {
   "cell_type": "code",
   "execution_count": 44,
   "metadata": {
    "execution": {
     "iopub.execute_input": "2020-11-17T16:10:01.556265Z",
     "iopub.status.busy": "2020-11-17T16:10:01.556043Z",
     "iopub.status.idle": "2020-11-17T16:10:02.209969Z",
     "shell.execute_reply": "2020-11-17T16:10:02.209157Z",
     "shell.execute_reply.started": "2020-11-17T16:10:01.556240Z"
    }
   },
   "outputs": [],
   "source": [
    "fic_df = pd.read_pickle(\"../data/avatar_fics_processed.pickle\")"
   ]
  },
  {
   "cell_type": "code",
   "execution_count": 47,
   "metadata": {
    "execution": {
     "iopub.execute_input": "2020-11-17T16:20:04.626020Z",
     "iopub.status.busy": "2020-11-17T16:20:04.625799Z",
     "iopub.status.idle": "2020-11-17T16:20:04.766534Z",
     "shell.execute_reply": "2020-11-17T16:20:04.765964Z",
     "shell.execute_reply.started": "2020-11-17T16:20:04.625995Z"
    }
   },
   "outputs": [],
   "source": [
    "info_list = []\n",
    "\n",
    "# save the first 100 characters, the title, and the authors of every fic in the database\n",
    "for i in range(len(fic_df)):\n",
    "    doc_info = {}\n",
    "    the_fic = fic_df.iloc[i]\n",
    "    doc_info[\"starting_text\"] = the_fic[\"text\"][:100]\n",
    "    doc_info[\"title\"] = the_fic[\"title\"]\n",
    "    doc_info[\"all_authors\"] = the_fic[\"all_authors\"]\n",
    "    doc_info[\"work_id\"] = the_fic[\"work_id\"]\n",
    "    info_list.append(doc_info)\n",
    "\n",
    "#pickle.dump(info_list, open(\"../data/fic_info.pickle\", \"wb\"))"
   ]
  }
 ],
 "metadata": {
  "kernelspec": {
   "display_name": "Python 3",
   "language": "python",
   "name": "python3"
  },
  "language_info": {
   "codemirror_mode": {
    "name": "ipython",
    "version": 3
   },
   "file_extension": ".py",
   "mimetype": "text/x-python",
   "name": "python",
   "nbconvert_exporter": "python",
   "pygments_lexer": "ipython3",
   "version": "3.8.2"
  }
 },
 "nbformat": 4,
 "nbformat_minor": 4
}
