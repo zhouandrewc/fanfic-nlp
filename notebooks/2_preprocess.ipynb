{
 "cells": [
  {
   "cell_type": "markdown",
   "metadata": {},
   "source": [
    "# Preprocessing\n",
    "\n",
    "We preprocess the text we scraped in [```1_scrape.py```](1_scrape.py), converting it into a format usable for our NLP modeling."
   ]
  },
  {
   "cell_type": "code",
   "execution_count": 1,
   "metadata": {
    "execution": {
     "iopub.execute_input": "2020-11-17T16:40:49.568472Z",
     "iopub.status.busy": "2020-11-17T16:40:49.568239Z",
     "iopub.status.idle": "2020-11-17T16:40:50.711446Z",
     "shell.execute_reply": "2020-11-17T16:40:50.710688Z",
     "shell.execute_reply.started": "2020-11-17T16:40:49.568444Z"
    }
   },
   "outputs": [],
   "source": [
    "import pandas as pd\n",
    "\n",
    "import sys\n",
    "sys.path.append(\"..\")\n",
    "from util.preprocess import process_texts, find_ngrams\n",
    "\n",
    "%load_ext autoreload\n",
    "%autoreload 2\n"
   ]
  },
  {
   "cell_type": "markdown",
   "metadata": {},
   "source": [
    "Let's load our data."
   ]
  },
  {
   "cell_type": "code",
   "execution_count": 2,
   "metadata": {
    "execution": {
     "iopub.execute_input": "2020-11-17T16:40:50.723758Z",
     "iopub.status.busy": "2020-11-17T16:40:50.723573Z",
     "iopub.status.idle": "2020-11-17T16:40:50.857013Z",
     "shell.execute_reply": "2020-11-17T16:40:50.856441Z",
     "shell.execute_reply.started": "2020-11-17T16:40:50.723739Z"
    }
   },
   "outputs": [],
   "source": [
    "fic_df = pd.read_pickle(\"../data/avatar_fics_scraped.pickle\")"
   ]
  },
  {
   "cell_type": "markdown",
   "metadata": {},
   "source": [
    "Our preprocessing logic is contained in [```preprocessing.py```](../util/preprocessing.py), which cleans, tokenizes, lemmatizes, removes stopwords, and merges specified n-grams. Most of the process is automatic, but we do need to specify the n-grams we would like merged."
   ]
  },
  {
   "cell_type": "markdown",
   "metadata": {
    "execution": {
     "iopub.execute_input": "2020-11-15T17:07:10.580518Z",
     "iopub.status.busy": "2020-11-15T17:07:10.580333Z",
     "iopub.status.idle": "2020-11-15T17:07:10.610592Z",
     "shell.execute_reply": "2020-11-15T17:07:10.609941Z",
     "shell.execute_reply.started": "2020-11-15T17:07:10.580500Z"
    }
   },
   "source": [
    "### Finding n-grams"
   ]
  },
  {
   "cell_type": "markdown",
   "metadata": {
    "execution": {
     "iopub.execute_input": "2020-11-15T17:07:33.235267Z",
     "iopub.status.busy": "2020-11-15T17:07:33.235024Z",
     "iopub.status.idle": "2020-11-15T17:07:33.272225Z",
     "shell.execute_reply": "2020-11-15T17:07:33.271552Z",
     "shell.execute_reply.started": "2020-11-15T17:07:33.235242Z"
    }
   },
   "source": [
    "Let's use ```find_ngrams``` to find the most common bigrams and trigrams in the corpus. We can examine those for ideas on what to merge."
   ]
  },
  {
   "cell_type": "code",
   "execution_count": 4,
   "metadata": {
    "execution": {
     "iopub.execute_input": "2020-11-16T19:11:51.364997Z",
     "iopub.status.busy": "2020-11-16T19:11:51.364768Z",
     "iopub.status.idle": "2020-11-16T19:12:32.836640Z",
     "shell.execute_reply": "2020-11-16T19:12:32.836022Z",
     "shell.execute_reply.started": "2020-11-16T19:11:51.364972Z"
    }
   },
   "outputs": [],
   "source": [
    "# Exclude \"ten\" as a stopword because \"Lu Ten\" is an imporant character in the series.\n",
    "bigrams, trigrams = find_ngrams(fic_df[\"text\"], stop_exceptions = [\"ten\"])"
   ]
  },
  {
   "cell_type": "code",
   "execution_count": 5,
   "metadata": {
    "execution": {
     "iopub.execute_input": "2020-11-16T19:12:32.838026Z",
     "iopub.status.busy": "2020-11-16T19:12:32.837843Z",
     "iopub.status.idle": "2020-11-16T19:12:33.015076Z",
     "shell.execute_reply": "2020-11-16T19:12:33.014454Z",
     "shell.execute_reply.started": "2020-11-16T19:12:32.838003Z"
    },
    "scrolled": true
   },
   "outputs": [
    {
     "data": {
      "text/plain": [
       "[(('fire', 'nation'), 10989),\n",
       " (('fire', 'lord'), 7622),\n",
       " (('ty', 'lee'), 6006),\n",
       " (('zuko', 'said'), 5180),\n",
       " (('water', 'tribe'), 3903),\n",
       " (('sokka', 'said'), 3483),\n",
       " (('earth', 'kingdom'), 3244),\n",
       " (('ba', 'sing'), 3060),\n",
       " (('sing', 'se'), 3041),\n",
       " (('zuko', 'says'), 2691),\n",
       " (('sokka', 'says'), 2119),\n",
       " (('katara', 'said'), 2119),\n",
       " (('gon', 'na'), 1710),\n",
       " (('lu', 'ten'), 1541),\n",
       " (('dai', 'li'), 1525),\n",
       " (('prince', 'zuko'), 1502),\n",
       " (('felt', 'like'), 1393),\n",
       " (('aang', 'said'), 1302),\n",
       " (('deep', 'breath'), 1296),\n",
       " (('zuko', 'looked'), 1284),\n",
       " (('long', 'time'), 1259),\n",
       " (('zuko', 'asked'), 1211),\n",
       " (('toph', 'said'), 1145),\n",
       " (('uncle', 'iroh'), 1055),\n",
       " (('southern', 'water'), 1054),\n",
       " (('feels', 'like'), 1052),\n",
       " (('feel', 'like'), 1039),\n",
       " (('sokka', 'asked'), 988),\n",
       " (('years', 'ago'), 972),\n",
       " (('old', 'man'), 955),\n",
       " (('blue', 'spirit'), 946),\n",
       " (('looks', 'like'), 918),\n",
       " (('said', 'zuko'), 915),\n",
       " (('looked', 'like'), 914),\n",
       " (('iroh', 'said'), 911),\n",
       " (('azula', 'said'), 908),\n",
       " (('zuko', 'looks'), 906),\n",
       " (('look', 'like'), 905),\n",
       " (('katara', 'says'), 888),\n",
       " (('little', 'bit'), 849),\n",
       " (('south', 'pole'), 844),\n",
       " (('zuko', 'nodded'), 804),\n",
       " (('lord', 'zuko'), 802),\n",
       " (('time', 'zuko'), 788),\n",
       " (('north', 'pole'), 777),\n",
       " (('zuko', 'sokka'), 772),\n",
       " (('air', 'temple'), 757),\n",
       " (('blue', 'eyes'), 756),\n",
       " (('zuko', 'felt'), 743),\n",
       " (('zuko', 'zuko'), 738),\n",
       " (('young', 'man'), 736),\n",
       " (('tea', 'shop'), 725),\n",
       " (('agni', 'kai'), 719),\n",
       " (('sokka', 'zuko'), 688),\n",
       " (('katara', 'asked'), 671),\n",
       " (('pretty', 'sure'), 670),\n",
       " (('earth', 'king'), 670),\n",
       " (('eyes', 'widened'), 662),\n",
       " (('aang', 'says'), 656),\n",
       " (('zuko', 'asks'), 650),\n",
       " (('ember', 'island'), 629),\n",
       " (('zuko', 'took'), 624),\n",
       " (('zuko', 'sighed'), 613),\n",
       " (('zuko', 'knew'), 609),\n",
       " (('know', 'zuko'), 598),\n",
       " (('sokka', 'asks'), 596),\n",
       " (('wan', 'na'), 586),\n",
       " (('white', 'lotus'), 570),\n",
       " (('zuko', 'thought'), 569),\n",
       " (('zuko', 'knows'), 554),\n",
       " (('zuko', 'turned'), 551),\n",
       " (('okay', 'zuko'), 544),\n",
       " (('said', 'quietly'), 543),\n",
       " (('like', 'zuko'), 534),\n",
       " (('northern', 'water'), 524),\n",
       " (('zuko', 'feels'), 523),\n",
       " (('general', 'iroh'), 519),\n",
       " (('suki', 'said'), 517),\n",
       " (('toph', 'says'), 510),\n",
       " (('sokka', 'looked'), 505),\n",
       " (('way', 'zuko'), 505),\n",
       " (('katara', 'looked'), 504),\n",
       " (('right', 'zuko'), 503),\n",
       " (('pai', 'sho'), 497),\n",
       " (('zuko', 'shook'), 489),\n",
       " (('spirit', 'world'), 487),\n",
       " (('sounds', 'like'), 483),\n",
       " (('small', 'smile'), 481),\n",
       " (('got', 'ta'), 481),\n",
       " (('yeah', 'zuko'), 480),\n",
       " (('long', 'feng'), 478),\n",
       " (('jasmine', 'dragon'), 477),\n",
       " (('far', 'away'), 475),\n",
       " (('zuko', 'nods'), 474),\n",
       " (('chief', 'hakoda'), 470),\n",
       " (('time', 'sokka'), 461),\n",
       " (('okay', 'sokka'), 458),\n",
       " (('best', 'friend'), 457),\n",
       " (('boiling', 'rock'), 457),\n",
       " (('zuko', 'let'), 457),\n",
       " (('lord', 'ozai'), 452),\n",
       " (('golden', 'eyes'), 445),\n",
       " (('said', 'sokka'), 443),\n",
       " (('zuko', 'katara'), 441),\n",
       " (('sokka', 'felt'), 437),\n",
       " (('zuko', 'thinks'), 433),\n",
       " (('sokka', 'looks'), 424),\n",
       " (('zuko', 'takes'), 421),\n",
       " (('zuko', 'tried'), 419),\n",
       " (('yeah', 'sokka'), 417),\n",
       " (('zuko', 'shrugged'), 415),\n",
       " ((\"'\", 'zuko'), 415),\n",
       " (('looked', 'away'), 413),\n",
       " (('eyes', 'narrowed'), 413),\n",
       " (('jeong', 'jeong'), 413),\n",
       " (('sorry', 'zuko'), 411),\n",
       " (('sound', 'like'), 404),\n",
       " (('sokka', 'sokka'), 402),\n",
       " (('azula', 'says'), 399),\n",
       " (('oh', 'zuko'), 399),\n",
       " (('aang', 'asked'), 398),\n",
       " (('says', 'zuko'), 395),\n",
       " (('turned', 'away'), 393),\n",
       " (('fine', 'zuko'), 393),\n",
       " (('good', 'idea'), 392),\n",
       " (('said', 'softly'), 391),\n",
       " (('said', 'katara'), 389),\n",
       " (('eye', 'contact'), 388),\n",
       " (('iroh', 'says'), 386),\n",
       " (('zuko', 'stared'), 384),\n",
       " (('zuko', 'smiled'), 384),\n",
       " (('face', 'zuko'), 380),\n",
       " (('asked', 'zuko'), 380),\n",
       " (('kyoshi', 'warriors'), 377),\n",
       " (('long', 'moment'), 376),\n",
       " ((\"'\", 'katara'), 376),\n",
       " (('know', 'sokka'), 375),\n",
       " (('air', 'nomads'), 374),\n",
       " (('sokka', 'thought'), 367),\n",
       " (('uncle', 'zuko'), 366),\n",
       " (('good', 'thing'), 363),\n",
       " (('eyes', 'wide'), 360),\n",
       " (('living', 'room'), 356),\n",
       " (('oh', 'yeah'), 356),\n",
       " (('says', 'quietly'), 355),\n",
       " (('right', 'sokka'), 353),\n",
       " (('crown', 'prince'), 353),\n",
       " (('sokka', 'katara'), 351),\n",
       " (('avatar', 'aang'), 349),\n",
       " (('zuko', 'replied'), 349),\n",
       " (('katara', 'nodded'), 346),\n",
       " (('like', 'sokka'), 345),\n",
       " (('master', 'pakku'), 344),\n",
       " (('zuko', 'turns'), 343),\n",
       " (('feel', 'better'), 343),\n",
       " (('zuko', 'frowned'), 342),\n",
       " (('sokka', 'thinks'), 341),\n",
       " (('zuko', 'gave'), 340),\n",
       " (('water', 'tribes'), 339),\n",
       " (('right', 'thing'), 338),\n",
       " (('hey', 'zuko'), 336),\n",
       " (('sokka', 'knew'), 336),\n",
       " (('princess', 'azula'), 330),\n",
       " (('sounded', 'like'), 329),\n",
       " (('zuko', 'sat'), 329),\n",
       " (('pulled', 'away'), 328),\n",
       " (('katara', 'sokka'), 328),\n",
       " (('kyoshi', 'island'), 326),\n",
       " (('zuko', 'rolled'), 324),\n",
       " (('throne', 'room'), 322),\n",
       " (('way', 'sokka'), 321),\n",
       " (('long', 'ago'), 321),\n",
       " (('years', 'old'), 319),\n",
       " (('hakoda', 'said'), 316),\n",
       " (('pretty', 'good'), 315),\n",
       " (('western', 'air'), 315),\n",
       " (('katara', 'asks'), 315),\n",
       " (('chit', 'sang'), 313),\n",
       " (('zuko', 'finally'), 312),\n",
       " (('moment', 'zuko'), 310),\n",
       " (('avatar', 'state'), 309),\n",
       " (('royal', 'family'), 306),\n",
       " (('aang', 'looked'), 306),\n",
       " (('hey', 'sokka'), 304),\n",
       " (('zuko', 'blinked'), 304),\n",
       " (('sokka', 'knows'), 303),\n",
       " (('katara', 'zuko'), 301),\n",
       " (('says', 'sokka'), 300),\n",
       " (('yes', 'zuko'), 300),\n",
       " (('fire', 'prince'), 299),\n",
       " (('zuko', 'laughed'), 299),\n",
       " (('toph', 'asked'), 297),\n",
       " (('eyes', 'zuko'), 296),\n",
       " (('sokka', 'took'), 295),\n",
       " (('zuko', 'sighs'), 294),\n",
       " (('making', 'sure'), 294),\n",
       " (('zuko', 'found'), 292),\n",
       " (('sokka', 'sighed'), 291),\n",
       " (('eyes', 'widen'), 288),\n",
       " (('zuko', 'stares'), 288),\n",
       " (('zuko', 'wanted'), 288),\n",
       " (('zuko', 'pulled'), 287),\n",
       " (('little', 'girl'), 287),\n",
       " (('sokka', 'nodded'), 285),\n",
       " (('big', 'deal'), 285),\n",
       " (('zuko', 'tries'), 285),\n",
       " (('aang', 'katara'), 285),\n",
       " (('lee', 'said'), 284),\n",
       " (('away', 'zuko'), 283),\n",
       " (('tribe', 'boy'), 283),\n",
       " (('sokka', 'laughed'), 282),\n",
       " (('gold', 'eyes'), 281),\n",
       " (('young', 'woman'), 281),\n",
       " (('zuko', 'shakes'), 280),\n",
       " (('black', 'hair'), 278),\n",
       " (('mai', 'said'), 276),\n",
       " (('katara', 'took'), 276),\n",
       " (('sure', 'zuko'), 275),\n",
       " (('months', 'ago'), 275),\n",
       " (('looks', 'away'), 274),\n",
       " (('makes', 'sense'), 274),\n",
       " (('katara', 'felt'), 272),\n",
       " (('katara', 'looks'), 272),\n",
       " (('sokka', 'feels'), 271),\n",
       " (('dark', 'hair'), 271),\n",
       " (('katara', 'smiled'), 271),\n",
       " (('sokka', 'takes'), 270),\n",
       " (('face', 'sokka'), 269),\n",
       " (('suki', 'says'), 267),\n",
       " (('room', 'zuko'), 266),\n",
       " (('zuko', 'aang'), 266),\n",
       " (('zuko', 'smiles'), 266),\n",
       " (('wide', 'eyes'), 265),\n",
       " (('door', 'open'), 264),\n",
       " (('air', 'nomad'), 264),\n",
       " (('zuko', 'got'), 264),\n",
       " (('run', 'away'), 260),\n",
       " (('zuko', 'stood'), 259),\n",
       " (('zuko', 'wants'), 258),\n",
       " (('sokka', 'shrugged'), 258),\n",
       " (('sokka', 'turned'), 258),\n",
       " (('katara', 'turned'), 258),\n",
       " (('sokka', 'tried'), 257),\n",
       " (('zuko', 'started'), 257),\n",
       " (('zuko', 'watched'), 257),\n",
       " (('azula', 'zuko'), 256),\n",
       " (('time', 'katara'), 256),\n",
       " (('said', 'firmly'), 256),\n",
       " (('said', 'dryly'), 256),\n",
       " (('know', 'katara'), 256),\n",
       " (('fire', 'sages'), 255),\n",
       " (('night', 'zuko'), 253),\n",
       " (('zuko', 'told'), 250),\n",
       " (('thing', 'zuko'), 249),\n",
       " (('leaned', 'forward'), 249),\n",
       " (('oh', 'sokka'), 247),\n",
       " (('year', 'old'), 246),\n",
       " (('zuko', 'glanced'), 245),\n",
       " (('gran', 'gran'), 245),\n",
       " (('free', 'hand'), 245),\n",
       " (('aang', 'zuko'), 245),\n",
       " (('fire', 'lady'), 244),\n",
       " (('sokka', 'smiled'), 243),\n",
       " (('good', 'zuko'), 242),\n",
       " (('zuko', 'went'), 241),\n",
       " (('eyes', 'closed'), 241),\n",
       " (('high', 'school'), 240),\n",
       " (('painted', 'lady'), 238),\n",
       " (('sky', 'bison'), 238),\n",
       " (('things', 'like'), 236),\n",
       " (('look', 'away'), 235),\n",
       " (('katara', 'sighed'), 234),\n",
       " (('sorry', 'sokka'), 232),\n",
       " (('zuko', 'iroh'), 230),\n",
       " (('yeah', 'yeah'), 226),\n",
       " (('step', 'forward'), 226),\n",
       " (('days', 'ago'), 226),\n",
       " (('zuko', 'snapped'), 226),\n",
       " (('kyoshi', 'warrior'), 226),\n",
       " (('zuko', 'blinks'), 225),\n",
       " (('aang', 'asks'), 224),\n",
       " (('little', 'sister'), 223),\n",
       " (('sokka', 'nods'), 222),\n",
       " (('maybe', 'zuko'), 222),\n",
       " (('zuko', 'groaned'), 222),\n",
       " (('zuko', 'shrugs'), 221),\n",
       " (('says', 'softly'), 221),\n",
       " (('eyes', 'shut'), 221),\n",
       " (('zuko', 'replies'), 221),\n",
       " (('zuko', 'leaned'), 219),\n",
       " (('think', 'zuko'), 219),\n",
       " (('nation', 'soldiers'), 217),\n",
       " (('aang', 'sokka'), 216),\n",
       " (('lower', 'ring'), 216),\n",
       " ((\"'\", 'sokka'), 216),\n",
       " (('ten', 'minutes'), 215),\n",
       " (('head', 'zuko'), 215),\n",
       " (('zuko', 'muttered'), 215),\n",
       " (('sokka', 'laughs'), 214),\n",
       " (('katara', 'aang'), 214),\n",
       " (('katara', 'rolled'), 214),\n",
       " (('sokka', 'let'), 213),\n",
       " (('sugar', 'queen'), 213),\n",
       " (('uncle', 'says'), 212),\n",
       " (('hand', 'away'), 212),\n",
       " (('team', 'avatar'), 211),\n",
       " (('zuko', 'raised'), 211),\n",
       " (('upper', 'ring'), 210),\n",
       " (('avatar', 'roku'), 210),\n",
       " (('left', 'eye'), 210),\n",
       " (('asked', 'sokka'), 208),\n",
       " (('asked', 'katara'), 208),\n",
       " (('feet', 'away'), 207),\n",
       " (('weeks', 'ago'), 204),\n",
       " (('fall', 'asleep'), 204),\n",
       " (('time', 'ago'), 204),\n",
       " (('zuko', 'opened'), 204),\n",
       " (('avatar', 'zuko'), 204),\n",
       " (('lee', 'says'), 204),\n",
       " (('right', 'katara'), 202),\n",
       " (('uncle', 'said'), 201),\n",
       " (('zuko', 'frowns'), 201),\n",
       " (('arms', 'crossed'), 200),\n",
       " (('bad', 'idea'), 200),\n",
       " (('zuko', 'finds'), 200),\n",
       " (('paying', 'attention'), 199),\n",
       " (('okay', 'katara'), 199),\n",
       " (('chief', 'arnook'), 199),\n",
       " (('walked', 'away'), 199),\n",
       " (('sokka', 'pulled'), 198),\n",
       " (('saw', 'zuko'), 198),\n",
       " (('said', 'looking'), 198),\n",
       " (('zuko', 'whispered'), 198),\n",
       " (('sokka', 'aang'), 198),\n",
       " (('bright', 'red'), 197),\n",
       " (('senlin', 'harbor'), 197),\n",
       " (('zuko', 'laughs'), 196),\n",
       " (('stepped', 'forward'), 196),\n",
       " (('feeling', 'like'), 195),\n",
       " (('zuko', 'snorted'), 195),\n",
       " (('walk', 'away'), 195),\n",
       " (('zuko', 'swallowed'), 195),\n",
       " (('zuko', 'sits'), 194),\n",
       " (('help', 'zuko'), 194),\n",
       " (('good', 'luck'), 194),\n",
       " (('said', 'bluntly'), 193),\n",
       " (('good', 'morning'), 193),\n",
       " (('day', 'zuko'), 193),\n",
       " (('minutes', 'later'), 192),\n",
       " (('sokka', 'smiles'), 192),\n",
       " (('sokka', 'gave'), 192),\n",
       " (('zuko', 'held'), 191),\n",
       " (('good', 'eye'), 191),\n",
       " (('zuko', 'watches'), 191),\n",
       " (('course', 'zuko'), 190),\n",
       " (('katara', 'frowned'), 189),\n",
       " (('zuko', 'saw'), 188),\n",
       " (('right', 'hand'), 187),\n",
       " (('zuko', 'starts'), 187),\n",
       " (('like', 'azula'), 187),\n",
       " (('leans', 'forward'), 187),\n",
       " (('told', 'zuko'), 186),\n",
       " (('banished', 'prince'), 186),\n",
       " (('later', 'zuko'), 185),\n",
       " (('like', 'katara'), 185),\n",
       " (('sure', 'sokka'), 184),\n",
       " (('sokka', 'grinned'), 183),\n",
       " (('zuko', 'lets'), 183),\n",
       " (('okay', 'okay'), 182),\n",
       " (('joo', 'dee'), 182),\n",
       " (('away', 'sokka'), 181),\n",
       " (('sokka', 'sighs'), 181),\n",
       " (('fine', 'sokka'), 181),\n",
       " (('zuko', 'stopped'), 181),\n",
       " (('hakoda', 'says'), 181),\n",
       " (('katara', 'shook'), 181),\n",
       " (('hand', 'zuko'), 180),\n",
       " (('thought', 'zuko'), 180),\n",
       " (('asks', 'zuko'), 179),\n",
       " (('eyes', 'sokka'), 179),\n",
       " (('mai', 'says'), 179),\n",
       " (('father', 'zuko'), 178),\n",
       " (('king', 'kuei'), 178),\n",
       " (('pulls', 'away'), 178),\n",
       " (('sokka', 'turns'), 178),\n",
       " (('know', 'aang'), 178),\n",
       " (('zuko', 'rolls'), 177),\n",
       " (('yes', 'sokka'), 177),\n",
       " (('sokka', 'pulls'), 177),\n",
       " (('pull', 'away'), 176),\n",
       " (('sokka', 'wanted'), 176),\n",
       " (('knew', 'zuko'), 176),\n",
       " (('good', 'sokka'), 175),\n",
       " (('taken', 'aback'), 175),\n",
       " (('sokka', 'replied'), 175),\n",
       " (('said', 'azula'), 175),\n",
       " (('toph', 'asks'), 175),\n",
       " (('zuko', 'makes'), 174),\n",
       " (('zuko', 'began'), 174),\n",
       " (('amber', 'eyes'), 174)]"
      ]
     },
     "execution_count": 5,
     "metadata": {},
     "output_type": "execute_result"
    }
   ],
   "source": [
    "bigrams.most_common()[0:400]"
   ]
  },
  {
   "cell_type": "code",
   "execution_count": 6,
   "metadata": {
    "execution": {
     "iopub.execute_input": "2020-11-16T19:12:33.016933Z",
     "iopub.status.busy": "2020-11-16T19:12:33.016759Z",
     "iopub.status.idle": "2020-11-16T19:12:33.140263Z",
     "shell.execute_reply": "2020-11-16T19:12:33.139781Z",
     "shell.execute_reply.started": "2020-11-16T19:12:33.016912Z"
    },
    "scrolled": true
   },
   "outputs": [
    {
     "data": {
      "text/plain": [
       "[(('ba', 'sing', 'se'), 3033),\n",
       " (('southern', 'water', 'tribe'), 1020),\n",
       " (('fire', 'lord', 'zuko'), 695),\n",
       " (('northern', 'water', 'tribe'), 508),\n",
       " (('fire', 'lord', 'ozai'), 433),\n",
       " (('western', 'air', 'temple'), 309),\n",
       " (('water', 'tribe', 'boy'), 282),\n",
       " (('fire', 'nation', 'soldiers'), 215),\n",
       " (('ty', 'lee', 'says'), 192),\n",
       " (('long', 'time', 'ago'), 178),\n",
       " (('ty', 'lee', 'said'), 171),\n",
       " (('fire', 'lord', 'azulon'), 158),\n",
       " (('fire', 'nation', 'prince'), 155),\n",
       " (('fire', 'lord', 'sozin'), 138),\n",
       " (('dai', 'li', 'agents'), 133),\n",
       " (('fire', 'nation', 'zuko'), 126),\n",
       " (('southern', 'air', 'temple'), 123),\n",
       " (('new', 'fire', 'lord'), 122),\n",
       " (('wan', 'shi', 'tong'), 114),\n",
       " (('dai', 'li', 'agent'), 113),\n",
       " (('zuko', 'said', 'quietly'), 112),\n",
       " (('fire', 'nation', 'capital'), 110),\n",
       " (('yeah', 'zuko', 'said'), 104),\n",
       " (('water', 'tribe', 'girl'), 103),\n",
       " (('fire', 'nation', 'royal'), 103),\n",
       " (('fire', 'nation', 'ship'), 101),\n",
       " (('ember', 'island', 'players'), 98),\n",
       " (('fire', 'nation', 'attacked'), 98),\n",
       " (('know', 'zuko', 'said'), 89),\n",
       " (('sokka', 'said', 'zuko'), 89),\n",
       " (('fine', 'zuko', 'said'), 88),\n",
       " (('water', 'tribe', 'siblings'), 86),\n",
       " (('fire', 'lord', 'azula'), 86),\n",
       " (('zuko', 'felt', 'like'), 84),\n",
       " (('okay', 'zuko', 'said'), 83),\n",
       " (('zuko', 'looked', 'away'), 83),\n",
       " (('fire', 'nation', 'citizens'), 81),\n",
       " (('fire', 'nation', 'palace'), 80),\n",
       " (('fire', 'nation', 'prison'), 80),\n",
       " (('northern', 'fire', 'nation'), 80),\n",
       " (('fire', 'nation', 'sokka'), 79),\n",
       " (('water', 'fire', 'earth'), 79),\n",
       " (('fire', 'earth', 'air'), 78),\n",
       " (('earth', 'air', 'long'), 78),\n",
       " (('air', 'long', 'ago'), 78),\n",
       " (('water', 'tribe', 'warrior'), 77),\n",
       " (('nickelodeon', 'bryan', 'konietzko'), 77),\n",
       " (('bryan', 'konietzko', 'michael'), 77),\n",
       " (('konietzko', 'michael', 'dante'), 77),\n",
       " (('michael', 'dante', 'dimartino'), 77),\n",
       " (('general', 'audiences', 'warning'), 77),\n",
       " (('scenes', 'contain', 'dark'), 77),\n",
       " (('contain', 'dark', 'themes'), 77),\n",
       " (('northern', 'air', 'temple'), 76),\n",
       " (('rating', 'general', 'audiences'), 76),\n",
       " (('eyes', 'went', 'wide'), 74),\n",
       " (('sokka', 'zuko', 'said'), 73),\n",
       " (('zuko', 'said', 'sokka'), 72),\n",
       " (('young', 'fire', 'lord'), 72),\n",
       " (('ty', 'lee', 'asks'), 71),\n",
       " (('zuko', 'says', 'quietly'), 70),\n",
       " (('okay', 'sokka', 'said'), 70),\n",
       " (('zuko', 'sokka', 'said'), 70),\n",
       " (('yeah', 'sokka', 'said'), 70),\n",
       " (('zuko', 'said', 'katara'), 68),\n",
       " (('oh', 'zuko', 'said'), 66),\n",
       " (('azula', 'ty', 'lee'), 66),\n",
       " (('yeah', 'zuko', 'says'), 65),\n",
       " (('fire', 'lord', 'iroh'), 65),\n",
       " (('sing', 'se', 'zuko'), 63),\n",
       " (('mai', 'ty', 'lee'), 63),\n",
       " (('waterbender', 'named', 'katara'), 63),\n",
       " (('dragons', \"'\", 'wings'), 62),\n",
       " (('zuko', 'feels', 'like'), 61),\n",
       " (('right', 'zuko', 'said'), 61),\n",
       " (('sokka', 'asked', 'zuko'), 61),\n",
       " (('sorry', 'zuko', 'said'), 61),\n",
       " (('long', 'time', 'zuko'), 60),\n",
       " (('earth', 'kingdom', 'soldiers'), 60),\n",
       " (('fire', 'nation', 'katara'), 60),\n",
       " (('know', 'sokka', 'said'), 59),\n",
       " (('okay', 'zuko', 'says'), 58),\n",
       " (('fire', 'lord', 'sokka'), 58),\n",
       " (('sokka', 'felt', 'like'), 58),\n",
       " (('prince', 'zuko', 'iroh'), 54),\n",
       " (('fire', 'nation', 'people'), 54),\n",
       " (('sokka', 'feels', 'like'), 54),\n",
       " (('zuko', 'said', 'softly'), 53),\n",
       " (('water', 'tribe', 'warriors'), 53),\n",
       " (('fire', 'nation', 'soldier'), 53),\n",
       " (('prince', 'zuko', 'zuko'), 52),\n",
       " (('water', 'tribe', 'ambassador'), 51),\n",
       " (('zuko', 'katara', 'said'), 50),\n",
       " (('si', 'wong', 'desert'), 50),\n",
       " (('minor', 'violence', 'author'), 50),\n",
       " (('play', 'pai', 'sho'), 49),\n",
       " (('yes', 'zuko', 'said'), 49),\n",
       " (('water', 'tribe', 'man'), 49),\n",
       " (('yeah', 'sokka', 'says'), 48),\n",
       " (('pai', 'sho', 'board'), 48)]"
      ]
     },
     "execution_count": 6,
     "metadata": {},
     "output_type": "execute_result"
    }
   ],
   "source": [
    "trigrams.most_common()[:100]"
   ]
  },
  {
   "cell_type": "markdown",
   "metadata": {},
   "source": [
    "Based on the above counters and on domain knowledge, we decide on bi- and trigrams. We also fix certain lemmatization errors. "
   ]
  },
  {
   "cell_type": "code",
   "execution_count": 12,
   "metadata": {
    "execution": {
     "iopub.execute_input": "2020-11-17T16:42:45.281892Z",
     "iopub.status.busy": "2020-11-17T16:42:45.281675Z",
     "iopub.status.idle": "2020-11-17T16:42:45.319442Z",
     "shell.execute_reply": "2020-11-17T16:42:45.318775Z",
     "shell.execute_reply.started": "2020-11-17T16:42:45.281868Z"
    }
   },
   "outputs": [],
   "source": [
    "avatar_bigrams = [\"fire lord\", \"fire nation\", \"lu ten\", \"water tribe\", \"ty lee\", \"lu ten\", \"earth kingdom\", \"water tribe\", \"agni kai\", \"blue spirit\", \"air temple\", \"boiling rock\", \"chit sang\", \"ember island\", \"dai li\", \"pai sho\", \"jasmine dragon\", \"long feng\", \"north pole\", \"south pole\", \"spirit world\", \"white lotus\", \"gran gran\", \"si wong\", \"white lotus\", \"air nomad\"]\n",
    "avatar_trigrams = [\"ba sing se\" ]\n",
    "\n",
    "elements = [\"\", \"water\", \"earth\", \"fire\", \"air\"]\n",
    "\n",
    "# unigram exceptions\n",
    "u_exc_1 = {f\"{element}benders\":f\"{element}bender\" for element in elements}\n",
    "u_exc_2 = {f\"{element}bends\":f\"{element}bend\" for element in elements}\n",
    "u_exc_3 = {f\"{element}bending\":f\"{element}bend\" for element in elements}\n",
    "u_exc_4 = {f\"{element}bended\": f\"{element}bend\" for element in elements}\n",
    "u_exc_5 = {\"soulmates\": \"soulmate\", \"firelord\": \"fire lord\", \"firelords\": \"fire lord\", \"grangran\": \"gran gran\"}\n",
    "u_exceptions = {**u_exc_1, **u_exc_2, **u_exc_3, **u_exc_4, **u_exc_5}\n",
    "\n",
    "# bigram exceptions\n",
    "b_exceptions = {\"soul mate\": \"soulmate\", \"soul mates\": \"soulmate\", \"gon na\": \"gonna\", \"wan na\": \"wanna\", \"agni kais\": \"agni kai\"}\n",
    "\n",
    "avatar_exceptions = {**u_exceptions, **b_exceptions}\n",
    "\n",
    "avatar_ngrams = {\"bigrams\": avatar_bigrams, \"trigrams\": avatar_trigrams, \"exceptions\": avatar_exceptions}\n"
   ]
  },
  {
   "cell_type": "markdown",
   "metadata": {},
   "source": [
    "A very specific case is the bigram \"Lu Ten,\" a character in Avatar. \"ten\" is included in our default stopword list, so we remove it from the stopword list. Then, after merging bigrams, we remove all instances of \"ten\" that weren't merged into a bigram.\n",
    "\n",
    "This functionality can be extended to other stopwords that appear in important ngrams."
   ]
  },
  {
   "cell_type": "code",
   "execution_count": 14,
   "metadata": {
    "execution": {
     "iopub.execute_input": "2020-11-17T16:42:52.969973Z",
     "iopub.status.busy": "2020-11-17T16:42:52.969753Z",
     "iopub.status.idle": "2020-11-17T16:42:53.004182Z",
     "shell.execute_reply": "2020-11-17T16:42:53.003508Z",
     "shell.execute_reply.started": "2020-11-17T16:42:52.969949Z"
    }
   },
   "outputs": [],
   "source": [
    "avatar_stop_exceptions = [\"ten\"]\n",
    "avatar_stop_after = [\"ten\"]"
   ]
  },
  {
   "cell_type": "markdown",
   "metadata": {},
   "source": [
    "### Example Process"
   ]
  },
  {
   "cell_type": "markdown",
   "metadata": {},
   "source": [
    "Let's look at an example of how the text is processed."
   ]
  },
  {
   "cell_type": "code",
   "execution_count": 44,
   "metadata": {
    "execution": {
     "iopub.execute_input": "2020-11-17T16:45:52.144428Z",
     "iopub.status.busy": "2020-11-17T16:45:52.144217Z",
     "iopub.status.idle": "2020-11-17T16:45:52.183800Z",
     "shell.execute_reply": "2020-11-17T16:45:52.183161Z",
     "shell.execute_reply.started": "2020-11-17T16:45:52.144404Z"
    }
   },
   "outputs": [
    {
     "data": {
      "text/plain": [
       "work_id                                                   27089068\n",
       "rating                                                        teen\n",
       "lang                                                       English\n",
       "words                                                         8570\n",
       "chapters                                                         1\n",
       "date                                                   18 Oct 2020\n",
       "series                                                          {}\n",
       "author                                                     aeoleus\n",
       "all_authors                                              [aeoleus]\n",
       "title                                     Icarus, Point to the Sun\n",
       "text               Zuko tries.    Agni, he tries. Uncle wants s...\n",
       "relationships    [Iroh & Zuko (Avatar), The Gaang & Zuko (Avatar)]\n",
       "chars            [Zuko (Avatar), Iroh (Avatar), Toph Beifong, K...\n",
       "tags             [yeah its whump and what about it, Hurt Zuko (...\n",
       "Name: 5, dtype: object"
      ]
     },
     "execution_count": 44,
     "metadata": {},
     "output_type": "execute_result"
    }
   ],
   "source": [
    "fic_df.iloc[5]"
   ]
  },
  {
   "cell_type": "code",
   "execution_count": 45,
   "metadata": {
    "execution": {
     "iopub.execute_input": "2020-11-17T16:46:02.336294Z",
     "iopub.status.busy": "2020-11-17T16:46:02.336024Z",
     "iopub.status.idle": "2020-11-17T16:46:02.370345Z",
     "shell.execute_reply": "2020-11-17T16:46:02.369727Z",
     "shell.execute_reply.started": "2020-11-17T16:46:02.336264Z"
    }
   },
   "outputs": [
    {
     "data": {
      "text/plain": [
       "'  Zuko tries.    Agni, he tries. Uncle wants so desperately for him to do the right thing, and he wants to, he does, he does, he does-  So when the Water Tribe girl looks at him with wild eyes, begging for help, and Azula raises one eyebrow with a sneer, Zuko chooses.    Azula’s scream of anger when he blasts a fireball in her direction is almost worth the twenty Dai Li agents that immediately surround him. The fight isn’t long, not for him.    “Go!” He shouts at the Water Tribe girl, who’s clutching'"
      ]
     },
     "execution_count": 45,
     "metadata": {},
     "output_type": "execute_result"
    }
   ],
   "source": [
    "text_example = fic_df.iloc[5][\"text\"][:505]\n",
    "text_example"
   ]
  },
  {
   "cell_type": "code",
   "execution_count": 48,
   "metadata": {
    "execution": {
     "iopub.execute_input": "2020-11-17T16:46:14.668774Z",
     "iopub.status.busy": "2020-11-17T16:46:14.668516Z",
     "iopub.status.idle": "2020-11-17T16:46:15.233707Z",
     "shell.execute_reply": "2020-11-17T16:46:15.233142Z",
     "shell.execute_reply.started": "2020-11-17T16:46:14.668743Z"
    }
   },
   "outputs": [
    {
     "name": "stdout",
     "output_type": "stream",
     "text": [
      "[['zuko', 'try', 'agni', 'try', 'uncle', 'want', 'desperately', 'right', 'thing', 'want', 'water tribe', 'girl', 'look', 'wild', 'eye', 'beg', 'help', 'azula', 'raise', 'eyebrow', 'sneer', 'zuko', 'choose', 'azula', 'scream', 'anger', 'blast', 'fireball', 'direction', 'worth', 'dai li', 'agent', 'immediately', 'surround', 'fight', 'long', 'shout', 'water tribe', 'girl', 'clutch']]\n"
     ]
    }
   ],
   "source": [
    "processed_example = process_texts([text_start], ngrams=avatar_ngrams, stop_exceptions=avatar_stop_exceptions, stop_after = avatar_stop_after)\n",
    "print(processed_example)"
   ]
  },
  {
   "cell_type": "markdown",
   "metadata": {},
   "source": [
    "### Final Processing"
   ]
  },
  {
   "cell_type": "markdown",
   "metadata": {},
   "source": [
    "We run our text through the preprocessing sequence, add it to our dataframe, and pickle the result."
   ]
  },
  {
   "cell_type": "code",
   "execution_count": 10,
   "metadata": {
    "execution": {
     "iopub.execute_input": "2020-11-16T19:12:42.278131Z",
     "iopub.status.busy": "2020-11-16T19:12:42.277911Z",
     "iopub.status.idle": "2020-11-16T19:19:18.157500Z",
     "shell.execute_reply": "2020-11-16T19:19:18.156713Z",
     "shell.execute_reply.started": "2020-11-16T19:12:42.278107Z"
    }
   },
   "outputs": [],
   "source": [
    "processed_texts = process_texts(fic_df[\"text\"], ngrams=avatar_ngrams, stop_exceptions=avatar_stop_exceptions, stop_after = avatar_stop_after)\n",
    "fic_df[\"processed\"] = processed_texts"
   ]
  },
  {
   "cell_type": "code",
   "execution_count": 12,
   "metadata": {
    "execution": {
     "iopub.execute_input": "2020-11-16T19:19:35.373021Z",
     "iopub.status.busy": "2020-11-16T19:19:35.372802Z",
     "iopub.status.idle": "2020-11-16T19:19:36.865459Z",
     "shell.execute_reply": "2020-11-16T19:19:36.864921Z",
     "shell.execute_reply.started": "2020-11-16T19:19:35.372997Z"
    }
   },
   "outputs": [],
   "source": [
    "fic_df.to_pickle(\"../data/avatar_fics_processed.pickle\")"
   ]
  }
 ],
 "metadata": {
  "kernelspec": {
   "display_name": "Python 3",
   "language": "python",
   "name": "python3"
  },
  "language_info": {
   "codemirror_mode": {
    "name": "ipython",
    "version": 3
   },
   "file_extension": ".py",
   "mimetype": "text/x-python",
   "name": "python",
   "nbconvert_exporter": "python",
   "pygments_lexer": "ipython3",
   "version": "3.8.2"
  }
 },
 "nbformat": 4,
 "nbformat_minor": 4
}
