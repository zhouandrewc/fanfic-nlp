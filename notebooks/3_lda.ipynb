{
 "cells": [
  {
   "cell_type": "markdown",
   "metadata": {},
   "source": [
    "# Topic Modeling via Latent Dirichlet Allocation (LDA)\n",
    "\n",
    "We model topics for our dataset using LDA, selecting hyperparameters for the model using the ```c_v``` coherence metric.\n",
    "\n",
    "See [this paper](http://svn.aksw.org/papers/2015/WSDM_Topic_Evaluation/public.pdf) for a definition of the various coherence metrics implemented in Gensim's [```CoherenceModel```](https://radimrehurek.com/gensim/models/coherencemodel.html)."
   ]
  },
  {
   "cell_type": "code",
   "execution_count": 2,
   "metadata": {
    "execution": {
     "iopub.execute_input": "2020-11-17T03:10:53.813986Z",
     "iopub.status.busy": "2020-11-17T03:10:53.813767Z",
     "iopub.status.idle": "2020-11-17T03:10:56.044628Z",
     "shell.execute_reply": "2020-11-17T03:10:56.044225Z",
     "shell.execute_reply.started": "2020-11-17T03:10:53.813962Z"
    }
   },
   "outputs": [],
   "source": [
    "import pandas as pd\n",
    "import sys\n",
    "sys.path.append(\"..\")\n",
    "\n",
    "from util.model import LDATuner\n",
    "from itertools import product\n",
    "import pickle\n",
    "\n",
    "%load_ext autoreload\n",
    "%autoreload 2"
   ]
  },
  {
   "cell_type": "code",
   "execution_count": 3,
   "metadata": {
    "execution": {
     "iopub.execute_input": "2020-11-17T03:10:56.045826Z",
     "iopub.status.busy": "2020-11-17T03:10:56.045670Z",
     "iopub.status.idle": "2020-11-17T03:10:56.677872Z",
     "shell.execute_reply": "2020-11-17T03:10:56.676561Z",
     "shell.execute_reply.started": "2020-11-17T03:10:56.045810Z"
    }
   },
   "outputs": [],
   "source": [
    "df = pd.read_pickle(\"../data/avatar_fics_processed.pickle\")\n",
    "docs = df[\"processed\"]"
   ]
  },
  {
   "cell_type": "markdown",
   "metadata": {},
   "source": [
    "We use our ```LDATuner``` class from [```util/model.py```](../util/model.py). The parameters we tune are ```num_topics```, the number of topics in the model, ```min_thresh```, the minimum number of documents a word must appear in to be included in the dictionary, and ```max_thresh```, the maximum percentage of documents a word can appear in before being excluded from the dictionary.\n",
    "\n",
    "Some external testing was conducted for ```alpha``` and ```beta``` and we concluded that ```asymmetric``` and ```symmetric``` were the superior options."
   ]
  },
  {
   "cell_type": "code",
   "execution_count": 5,
   "metadata": {
    "execution": {
     "iopub.execute_input": "2020-11-17T03:11:40.299810Z",
     "iopub.status.busy": "2020-11-17T03:11:40.299590Z",
     "iopub.status.idle": "2020-11-17T03:11:40.326057Z",
     "shell.execute_reply": "2020-11-17T03:11:40.325253Z",
     "shell.execute_reply.started": "2020-11-17T03:11:40.299786Z"
    }
   },
   "outputs": [],
   "source": [
    "tune = LDATuner(docs, verbose=False)\n",
    "keywords=[\"num_topics\", \"min_thresh\", \"max_thresh\", \"alpha\", \"beta\"]"
   ]
  },
  {
   "cell_type": "markdown",
   "metadata": {},
   "source": [
    "Let's fix a minimum and maximum threshold and see which number of topics seems best. \n",
    "\n",
    "It won't necessarily be best globally as we have fixed our thresholds, but we use it here as an approximation and an idea of where to conduct a search with greater granularity."
   ]
  },
  {
   "cell_type": "code",
   "execution_count": 12,
   "metadata": {
    "execution": {
     "iopub.execute_input": "2020-11-17T03:29:01.774688Z",
     "iopub.status.busy": "2020-11-17T03:29:01.774471Z",
     "iopub.status.idle": "2020-11-17T03:40:19.528120Z",
     "shell.execute_reply": "2020-11-17T03:40:19.527485Z",
     "shell.execute_reply.started": "2020-11-17T03:29:01.774664Z"
    }
   },
   "outputs": [
    {
     "name": "stdout",
     "output_type": "stream",
     "text": [
      "beginning parameter evaluation...\n",
      "trained model 1 with params {'num_topics': 8, 'min_thresh': 25, 'max_thresh': 0.3, 'alpha': 'asymmetric', 'beta': 'symmetric'}\n",
      "coherence 0.39683902867471493\n",
      "trained model 2 with params {'num_topics': 9, 'min_thresh': 25, 'max_thresh': 0.3, 'alpha': 'asymmetric', 'beta': 'symmetric'}\n",
      "coherence 0.3962585887599385\n",
      "trained model 3 with params {'num_topics': 10, 'min_thresh': 25, 'max_thresh': 0.3, 'alpha': 'asymmetric', 'beta': 'symmetric'}\n",
      "coherence 0.3918289076672109\n",
      "trained model 4 with params {'num_topics': 11, 'min_thresh': 25, 'max_thresh': 0.3, 'alpha': 'asymmetric', 'beta': 'symmetric'}\n",
      "coherence 0.4126942433088722\n",
      "trained model 5 with params {'num_topics': 12, 'min_thresh': 25, 'max_thresh': 0.3, 'alpha': 'asymmetric', 'beta': 'symmetric'}\n",
      "coherence 0.411716796986831\n",
      "trained model 6 with params {'num_topics': 13, 'min_thresh': 25, 'max_thresh': 0.3, 'alpha': 'asymmetric', 'beta': 'symmetric'}\n",
      "coherence 0.396659267829435\n",
      "trained model 7 with params {'num_topics': 14, 'min_thresh': 25, 'max_thresh': 0.3, 'alpha': 'asymmetric', 'beta': 'symmetric'}\n",
      "coherence 0.40599858469922656\n"
     ]
    }
   ],
   "source": [
    "num_topics = [8, 9, 10, 11, 12, 13, 14]\n",
    "min_thresh = [25]\n",
    "max_thresh = [0.3]\n",
    "\n",
    "alpha=['asymmetric']\n",
    "beta=['symmetric']\n",
    "\n",
    "count = 0\n",
    "\n",
    "iterations = 400\n",
    "passes = 20\n",
    " \n",
    "keywords=[\"num_topics\", \"min_thresh\", \"max_thresh\", \"alpha\", \"beta\"]\n",
    "param_grid = product(num_topics, min_thresh, max_thresh, alpha, beta)\n",
    "\n",
    "model_scores = tune.tune_hyper(keywords, param_grid)"
   ]
  },
  {
   "cell_type": "code",
   "execution_count": 14,
   "metadata": {
    "execution": {
     "iopub.execute_input": "2020-11-17T03:42:01.323907Z",
     "iopub.status.busy": "2020-11-17T03:42:01.323736Z",
     "iopub.status.idle": "2020-11-17T03:51:26.144820Z",
     "shell.execute_reply": "2020-11-17T03:51:26.144235Z",
     "shell.execute_reply.started": "2020-11-17T03:42:01.323889Z"
    }
   },
   "outputs": [
    {
     "name": "stdout",
     "output_type": "stream",
     "text": [
      "beginning parameter evaluation...\n",
      "trained model 1 with params {'num_topics': 15, 'min_thresh': 25, 'max_thresh': 0.3, 'alpha': 'asymmetric', 'beta': 'symmetric'}\n",
      "coherence 0.3967814753133002\n",
      "trained model 2 with params {'num_topics': 16, 'min_thresh': 25, 'max_thresh': 0.3, 'alpha': 'asymmetric', 'beta': 'symmetric'}\n",
      "coherence 0.40407837280180503\n",
      "trained model 3 with params {'num_topics': 17, 'min_thresh': 25, 'max_thresh': 0.3, 'alpha': 'asymmetric', 'beta': 'symmetric'}\n",
      "coherence 0.4016013520084576\n",
      "trained model 4 with params {'num_topics': 18, 'min_thresh': 25, 'max_thresh': 0.3, 'alpha': 'asymmetric', 'beta': 'symmetric'}\n",
      "coherence 0.3988050328218545\n",
      "trained model 5 with params {'num_topics': 19, 'min_thresh': 25, 'max_thresh': 0.3, 'alpha': 'asymmetric', 'beta': 'symmetric'}\n",
      "coherence 0.3987175396452929\n",
      "trained model 6 with params {'num_topics': 20, 'min_thresh': 25, 'max_thresh': 0.3, 'alpha': 'asymmetric', 'beta': 'symmetric'}\n",
      "coherence 0.3830554628413303\n"
     ]
    }
   ],
   "source": [
    "num_topics = [15, 16, 17, 18, 19, 20]\n",
    "min_thresh = [25]\n",
    "max_thresh = [0.3]\n",
    "\n",
    "alpha=['asymmetric']\n",
    "beta=['symmetric']\n",
    "\n",
    "count = 0\n",
    "\n",
    "iterations = 400\n",
    "passes = 20\n",
    " \n",
    "keywords=[\"num_topics\", \"min_thresh\", \"max_thresh\", \"alpha\", \"beta\"]\n",
    "param_grid = product(num_topics, min_thresh, max_thresh, alpha, beta)\n",
    "\n",
    "model_scores = tune.tune_hyper(keywords, param_grid)"
   ]
  },
  {
   "cell_type": "markdown",
   "metadata": {},
   "source": [
    "We get the best results with 11 and 12 topics. Let's do some more fine-grained searching in the 11- and 12-topic range, this time focusing our efforts on tuning the dictionary inclusion thresholds."
   ]
  },
  {
   "cell_type": "code",
   "execution_count": 10,
   "metadata": {
    "execution": {
     "iopub.execute_input": "2020-11-16T19:52:08.358031Z",
     "iopub.status.busy": "2020-11-16T19:52:08.357866Z",
     "iopub.status.idle": "2020-11-16T20:27:43.605651Z",
     "shell.execute_reply": "2020-11-16T20:27:43.605086Z",
     "shell.execute_reply.started": "2020-11-16T19:52:08.358014Z"
    },
    "scrolled": true
   },
   "outputs": [
    {
     "name": "stdout",
     "output_type": "stream",
     "text": [
      "beginning parameter evaluation...\n",
      "trained model 1 with params (11, 20, 0.25, 'asymmetric', 'symmetric')\n",
      "coherence 0.41789481019747027\n",
      "trained model 2 with params (11, 20, 0.3, 'asymmetric', 'symmetric')\n",
      "coherence 0.3580443453232482\n",
      "trained model 3 with params (11, 20, 0.35, 'asymmetric', 'symmetric')\n",
      "coherence 0.3867188910071155\n",
      "trained model 4 with params (11, 30, 0.25, 'asymmetric', 'symmetric')\n",
      "coherence 0.3968217189622278\n",
      "trained model 5 with params (11, 30, 0.3, 'asymmetric', 'symmetric')\n",
      "coherence 0.3987019767949158\n",
      "trained model 6 with params (11, 30, 0.35, 'asymmetric', 'symmetric')\n",
      "coherence 0.382660823021126\n",
      "trained model 7 with params (11, 40, 0.25, 'asymmetric', 'symmetric')\n",
      "coherence 0.3759876930648349\n",
      "trained model 8 with params (11, 40, 0.3, 'asymmetric', 'symmetric')\n",
      "coherence 0.36952650504187884\n",
      "trained model 9 with params (11, 40, 0.35, 'asymmetric', 'symmetric')\n",
      "coherence 0.3754049225982536\n",
      "trained model 10 with params (11, 50, 0.25, 'asymmetric', 'symmetric')\n",
      "coherence 0.43753993479593767\n",
      "trained model 11 with params (11, 50, 0.3, 'asymmetric', 'symmetric')\n",
      "coherence 0.43568948171032157\n",
      "trained model 12 with params (11, 50, 0.35, 'asymmetric', 'symmetric')\n",
      "coherence 0.41766046361109216\n",
      "trained model 13 with params (12, 20, 0.25, 'asymmetric', 'symmetric')\n",
      "coherence 0.4174102478671348\n",
      "trained model 14 with params (12, 20, 0.3, 'asymmetric', 'symmetric')\n",
      "coherence 0.35901910515311397\n",
      "trained model 15 with params (12, 20, 0.35, 'asymmetric', 'symmetric')\n",
      "coherence 0.3732284935615875\n",
      "trained model 16 with params (12, 30, 0.25, 'asymmetric', 'symmetric')\n",
      "coherence 0.3843490562671487\n",
      "trained model 17 with params (12, 30, 0.3, 'asymmetric', 'symmetric')\n",
      "coherence 0.40412757741933153\n",
      "trained model 18 with params (12, 30, 0.35, 'asymmetric', 'symmetric')\n",
      "coherence 0.40351408727339083\n",
      "trained model 19 with params (12, 40, 0.25, 'asymmetric', 'symmetric')\n",
      "coherence 0.38913271952401923\n",
      "trained model 20 with params (12, 40, 0.3, 'asymmetric', 'symmetric')\n",
      "coherence 0.38081562841965527\n",
      "trained model 21 with params (12, 40, 0.35, 'asymmetric', 'symmetric')\n",
      "coherence 0.3964507972579403\n",
      "trained model 22 with params (12, 50, 0.25, 'asymmetric', 'symmetric')\n",
      "coherence 0.4173217165604303\n",
      "trained model 23 with params (12, 50, 0.3, 'asymmetric', 'symmetric')\n",
      "coherence 0.4353403137819373\n",
      "trained model 24 with params (12, 50, 0.35, 'asymmetric', 'symmetric')\n",
      "coherence 0.4241372918943868\n"
     ]
    }
   ],
   "source": [
    "num_topics = [11, 12]\n",
    "min_thresh = [20, 30, 40, 50]\n",
    "max_thresh = [0.25, 0.3, 0.35]\n",
    "alpha=['asymmetric']\n",
    "beta=['symmetric']\n",
    "\n",
    "iterations = 400\n",
    "passes = 20\n",
    " \n",
    "keywords=[\"num_topics\", \"min_thresh\", \"max_thresh\", \"alpha\", \"beta\"]\n",
    "param_grid = product(num_topics, min_thresh, max_thresh, alpha, beta)\n",
    "\n",
    "model_scores = tune.tune_hyper(keywords, param_grid)"
   ]
  },
  {
   "cell_type": "code",
   "execution_count": 6,
   "metadata": {
    "execution": {
     "iopub.execute_input": "2020-11-16T20:42:39.840266Z",
     "iopub.status.busy": "2020-11-16T20:42:39.840043Z",
     "iopub.status.idle": "2020-11-16T20:42:39.869397Z",
     "shell.execute_reply": "2020-11-16T20:42:39.868782Z",
     "shell.execute_reply.started": "2020-11-16T20:42:39.840241Z"
    }
   },
   "outputs": [],
   "source": [
    "#pickle.dump(model_scores, open(\"../models/avatar_model_scores.pickle\", \"wb\" ) )\n",
    "model_scores = pickle.load(open(\"../models/avatar_model_scores.pickle\", \"rb\"))"
   ]
  },
  {
   "cell_type": "markdown",
   "metadata": {},
   "source": [
    "We've found the several good solutions (by ``c_v`` coherence) among the various parameter combinations we evaluated. Let's train a few of the best, then evaluate them by comparing the topics to our domain knowledge.\n",
    "\n",
    "We don't automatically select the best model by coherence because the metric isn't necessarily the most indicative of what a human would judge to be a good topic model. In fact, the original paper evaluates coherence metrics by their correlation with human ratings; ```c_v``` was the highest at 0.731."
   ]
  },
  {
   "cell_type": "code",
   "execution_count": 8,
   "metadata": {
    "execution": {
     "iopub.execute_input": "2020-11-17T03:15:41.353431Z",
     "iopub.status.busy": "2020-11-17T03:15:41.353209Z",
     "iopub.status.idle": "2020-11-17T03:23:43.588764Z",
     "shell.execute_reply": "2020-11-17T03:23:43.588014Z",
     "shell.execute_reply.started": "2020-11-17T03:15:41.353406Z"
    }
   },
   "outputs": [
    {
     "name": "stdout",
     "output_type": "stream",
     "text": [
      "training model with params {'num_topics': 11, 'min_thresh': 50, 'max_thresh': 0.25, 'alpha': 'asymmetric', 'beta': 'symmetric'}\n",
      "training model with params {'num_topics': 11, 'min_thresh': 50, 'max_thresh': 0.3, 'alpha': 'asymmetric', 'beta': 'symmetric'}\n",
      "training model with params {'num_topics': 12, 'min_thresh': 50, 'max_thresh': 0.3, 'alpha': 'asymmetric', 'beta': 'symmetric'}\n",
      "training model with params {'num_topics': 12, 'min_thresh': 50, 'max_thresh': 0.35, 'alpha': 'asymmetric', 'beta': 'symmetric'}\n"
     ]
    }
   ],
   "source": [
    "model_info_1 = tune.train_model_params((11, 50, 0.25, 'asymmetric', 'symmetric'), keywords)\n",
    "model_info_2 = tune.train_model_params((11, 50, 0.3, 'asymmetric', 'symmetric'), keywords)\n",
    "model_info_3 = tune.train_model_params((12, 50, 0.3, 'asymmetric', 'symmetric'), keywords)\n",
    "model_info_4 = tune.train_model_params((12, 50, 0.35, 'asymmetric', 'symmetric'), keywords)"
   ]
  },
  {
   "cell_type": "markdown",
   "metadata": {},
   "source": [
    "What do our topics look like?\n",
    "\n",
    "We print the topics for each of the top 4 models, then evaluate them by an eye test. We omit the in-depth reasoning as that would involve detailed domain knowledge."
   ]
  },
  {
   "cell_type": "code",
   "execution_count": 17,
   "metadata": {
    "execution": {
     "iopub.execute_input": "2020-11-16T20:49:09.187645Z",
     "iopub.status.busy": "2020-11-16T20:49:09.187421Z",
     "iopub.status.idle": "2020-11-16T20:49:09.225173Z",
     "shell.execute_reply": "2020-11-16T20:49:09.224543Z",
     "shell.execute_reply.started": "2020-11-16T20:49:09.187621Z"
    },
    "scrolled": true
   },
   "outputs": [
    {
     "name": "stdout",
     "output_type": "stream",
     "text": [
      "[('cell', 0.0052065845), ('waterbender', 0.0051848777), ('element', 0.0049300576), ('zhao', 0.0046798284), ('destroy', 0.003947909), ('destiny', 0.0038004091), ('chapter', 0.003639634), ('waterbend', 0.0036186203), ('create', 0.003576232), ('kyoshi', 0.003508324), ('earthbend', 0.003464028), ('earthbender', 0.0034163648), ('prisoner', 0.003387849), ('momo', 0.003169153), ('betray', 0.0030530854), ('blast', 0.00303634), ('king', 0.0028455232), ('tent', 0.0027666674), ('island', 0.0027584834), ('powerful', 0.0027563642)] \n",
      "\n",
      "[('car', 0.00731236), ('boyfriend', 0.005289455), ('book', 0.004577607), ('party', 0.0036964887), ('glass', 0.003665543), ('school', 0.0036544644), ('god', 0.0035582413), ('cute', 0.0034575143), ('cat', 0.0031686102), ('fucking', 0.0031381347), ('music', 0.003077253), ('couch', 0.0029087986), ('bar', 0.0028817586), ('wanna', 0.0027396043), ('marry', 0.002635631), ('asshole', 0.002618692), ('totally', 0.002530348), ('dude', 0.0025076896), ('band', 0.0024658162), ('chapter', 0.002457594)] \n",
      "\n",
      "[('phone', 0.014385479), ('school', 0.007721015), ('counter', 0.007157538), ('apartment', 0.0067006685), ('class', 0.006252297), ('coffee', 0.005693994), ('car', 0.00539953), ('text', 0.0046935086), ('movie', 0.0041380976), ('haru', 0.004045211), ('song', 0.0039076237), ('number', 0.0038021503), ('jin', 0.0037366424), ('couch', 0.0035208676), ('jasmine dragon', 0.0034289553), ('music', 0.0032653615), ('party', 0.003211022), ('customer', 0.0031275856), ('store', 0.0030783298), ('glass', 0.0030320366)] \n",
      "\n",
      "[('ursa', 0.020130167), ('princess', 0.010152143), ('lady', 0.006716987), ('pakku', 0.0059690094), ('feature', 0.0058450685), ('waterbender', 0.005268962), ('white lotus', 0.0047317706), ('daughter', 0.00461511), ('harbor', 0.0043327943), ('admiral', 0.0034770307), ('leader', 0.0033602293), ('pirate', 0.0033517955), ('waterbend', 0.0031407103), ('island', 0.0031106826), ('chief', 0.0030992557), ('marry', 0.0030575213), ('necklace', 0.0029728725), ('journey', 0.0029316328), ('south pole', 0.0028777255), ('cast', 0.0028746328)] \n",
      "\n",
      "[('lee', 0.022781681), ('dai li', 0.010496786), ('king', 0.0059191124), ('waterbender', 0.0057785106), ('human', 0.005744521), ('sozin', 0.005461219), ('kuei', 0.0049323416), ('captain', 0.004820364), ('earthbender', 0.0047966447), ('sir', 0.0047904183), ('airbender', 0.00474863), ('agent', 0.004625382), ('lady', 0.0044616563), ('kyoshi', 0.0042577186), ('kuzon', 0.0041286973), ('army', 0.0038277204), ('teo', 0.0035869547), ('zhao', 0.0035637273), ('dryly', 0.0033468772), ('healer', 0.0033295436)] \n",
      "\n",
      "[('duke', 0.0075710355), ('haru', 0.0043678707), ('earthbender', 0.004351689), ('earthbend', 0.0042759115), ('sparky', 0.00404206), ('airbender', 0.0040298617), ('chief', 0.0037836449), ('realise', 0.003466512), ('waterbender', 0.0033860318), ('bison', 0.0030874566), ('roku', 0.0030600461), ('teo', 0.0029298656), ('pirate', 0.0025401304), ('stance', 0.002392268), ('camp', 0.00238198), ('boomerang', 0.002377532), ('prisoner', 0.0022515492), ('airbend', 0.002203448), ('blade', 0.0020887838), ('king', 0.0019453664)] \n",
      "\n",
      "[('jet', 0.1591497), ('ursa', 0.025422111), ('piandao', 0.022915479), ('li', 0.009080074), ('teo', 0.008577374), ('class', 0.006664496), ('kuzon', 0.0064202314), ('message', 0.0063908934), ('haru', 0.005244531), ('student', 0.0044696624), ('school', 0.004169043), ('team', 0.003917608), ('freedom', 0.0038088146), ('privately', 0.0036895906), ('lecture', 0.0034227378), ('spell', 0.0029803792), ('shot', 0.0028473248), ('horrible', 0.0028468734), ('hurry', 0.0026493112), ('blade', 0.0026442385)] \n",
      "\n",
      "[('mask', 0.004920755), ('blue spirit', 0.00430021), ('flower', 0.003261677), ('waterbender', 0.0029699157), ('sand', 0.0028640574), ('leaf', 0.0022643995), ('cough', 0.0022414299), ('beach', 0.0021821281), ('bowl', 0.0021532706), ('darkness', 0.0021379737), ('fish', 0.002118284), ('smoke', 0.0019801294), ('realise', 0.0019697826), ('surface', 0.0019075124), ('blade', 0.0018908278), ('pot', 0.0018886783), ('rain', 0.0018689586), ('river', 0.0018450391), ('grass', 0.0018228659), ('stream', 0.0018051673)] \n",
      "\n",
      "[('izumi', 0.020470649), ('daughter', 0.013730247), ('li', 0.012781166), ('azulon', 0.0110478755), ('princess', 0.010608928), ('servant', 0.009259639), ('husband', 0.006065751), ('wife', 0.0054980223), ('lord', 0.0052172584), ('aunt', 0.004867864), ('bumi', 0.0046414053), ('marry', 0.00446632), ('zuzu', 0.0043588), ('grandfather', 0.0039848634), ('heir', 0.0037092795), ('lady', 0.0035652579), ('advisor', 0.0033130941), ('noble', 0.0031560292), ('turtleduck', 0.003111826), ('school', 0.0029010903)] \n",
      "\n",
      "[('yue', 0.038368024), ('lu ten', 0.019179236), ('chief', 0.011427153), ('princess', 0.008718429), ('northern', 0.0070117945), ('grandfather', 0.0066901315), ('waterbender', 0.006492483), ('zhao', 0.006309816), ('tribe', 0.00614133), ('snow', 0.005940981), ('pakku', 0.005847587), ('ursa', 0.0049883504), ('marry', 0.004950642), ('saddle', 0.0043184995), ('bison', 0.004094032), ('cousin', 0.0039922628), ('courtyard', 0.003667919), ('fur', 0.003563352), ('boat', 0.00350291), ('coat', 0.003429131)] \n",
      "\n",
      "[('ambassador', 0.005524809), ('servant', 0.004068627), ('kyoshi', 0.0035416288), ('pond', 0.0031960688), ('council', 0.0031757478), ('chief', 0.0031716258), ('necklace', 0.0031173937), ('bato', 0.0030149897), ('caldera', 0.0029510378), ('south pole', 0.0028933543), ('lord', 0.0027512684), ('minister', 0.0027373394), ('tribe', 0.0026957674), ('chamber', 0.0026863872), ('courtyard', 0.0026509734), ('lu ten', 0.0024988959), ('desk', 0.0023650464), ('agni kai', 0.0023433696), ('advisor', 0.0022816826), ('sir', 0.0022384794)] \n",
      "\n"
     ]
    }
   ],
   "source": [
    "mod_1 = model_info_1[\"model\"]\n",
    "for i in range(mod_1.num_topics):\n",
    "    print(mod_1.show_topic(i, topn=20), \"\\n\")"
   ]
  },
  {
   "cell_type": "markdown",
   "metadata": {},
   "source": [
    "Our best model actaully looks fairly bad; several areas seem mixed together in certain topics based on domain knowledge."
   ]
  },
  {
   "cell_type": "code",
   "execution_count": 15,
   "metadata": {
    "execution": {
     "iopub.execute_input": "2020-11-17T04:40:17.099498Z",
     "iopub.status.busy": "2020-11-17T04:40:17.099262Z",
     "iopub.status.idle": "2020-11-17T04:40:17.139718Z",
     "shell.execute_reply": "2020-11-17T04:40:17.139184Z",
     "shell.execute_reply.started": "2020-11-17T04:40:17.099473Z"
    },
    "scrolled": true
   },
   "outputs": [
    {
     "name": "stdout",
     "output_type": "stream",
     "text": [
      "[('yue', 0.009995302), ('fish', 0.0033362852), ('chief', 0.0031552024), ('ocean', 0.0031141932), ('snow', 0.0029772522), ('sand', 0.0029670584), ('tent', 0.002942843), ('waterbender', 0.0027138009), ('bender', 0.002672898), ('glow', 0.0024474605), ('beach', 0.0023836163), ('sea', 0.0023337086), ('village', 0.0022296438), ('fur', 0.002123047), ('river', 0.002066429), ('northern', 0.002035358), ('boat', 0.0019597064), ('human', 0.0019594538), ('metal', 0.0019322705), ('path', 0.0019311558)] \n",
      "\n",
      "[('wound', 0.0028220515), ('cough', 0.0026569832), ('thumb', 0.0026519957), ('flower', 0.0025177717), ('lung', 0.0024289712), ('bandage', 0.0024243663), ('scratch', 0.0024155288), ('sweat', 0.0023694513), ('bowl', 0.0023646413), ('mask', 0.0023434875), ('breathing', 0.00231163), ('pink', 0.0022579492), ('blade', 0.00219806), ('rib', 0.002145332), ('tighten', 0.0021418969), ('injury', 0.0021395227), ('pillow', 0.0021296847), ('bone', 0.0020614164), ('heartbeat', 0.0020598187), ('hip', 0.0020574732)] \n",
      "\n",
      "[('jet', 0.061827008), ('subject', 0.053818677), ('duke', 0.03147068), ('teo', 0.017243037), ('haru', 0.016633298), ('li', 0.010044376), ('daddy', 0.006511476), ('prison', 0.0044892714), ('knife', 0.004177874), ('metal', 0.0040837373), ('fountain', 0.0037718096), ('hawk', 0.0033309702), ('earthbend', 0.0029542826), ('game', 0.00292604), ('parent', 0.0024686975), ('flower', 0.002324121), ('forest', 0.0022656126), ('assassin', 0.0022491063), ('argument', 0.0022097768), ('everybody', 0.0021429018)] \n",
      "\n",
      "[('car', 0.012160442), ('piandao', 0.011685424), ('blue spirit', 0.008064434), ('mask', 0.005325808), ('drive', 0.005147748), ('box', 0.00490586), ('phone', 0.004677453), ('school', 0.004617964), ('kitchen', 0.0043227104), ('nephew', 0.004319062), ('book', 0.0040136655), ('street', 0.0039128875), ('shit', 0.0038714984), ('paper', 0.0036548476), ('class', 0.003492214), ('road', 0.0033712569), ('message', 0.003098499), ('store', 0.0029946696), ('living', 0.0028735092), ('coffee', 0.0028514233)] \n",
      "\n",
      "[('zhao', 0.0059874817), ('prison', 0.005341749), ('airbender', 0.0041540195), ('lightning', 0.0039841845), ('capture', 0.003967703), ('soldier', 0.0039575603), ('bison', 0.0034465517), ('waterbender', 0.0031915293), ('honor', 0.0031817558), ('earthbender', 0.0030671863), ('agni kai', 0.0029308652), ('village', 0.0029138979), ('realise', 0.002881651), ('teacher', 0.0028192205), ('sparky', 0.0027903407), ('airbend', 0.0027537316), ('blast', 0.0026807114), ('earthbend', 0.0026754583), ('cell', 0.0025418715), ('banish', 0.0025310211)] \n",
      "\n",
      "[('ty lee', 0.032734368), ('waterbender', 0.006155956), ('village', 0.0040801056), ('soldier', 0.004029584), ('parent', 0.0037671146), ('princess', 0.0036021308), ('street', 0.00350298), ('prison', 0.0034233045), ('mask', 0.0033051576), ('earthbender', 0.0032853736), ('waterbend', 0.0031783837), ('money', 0.0031087382), ('hall', 0.0030988764), ('jet', 0.0030928054), ('island', 0.0029907792), ('song', 0.0029507463), ('earthbend', 0.0028928025), ('metal', 0.0027488638), ('building', 0.002739899), ('element', 0.0027179641)] \n",
      "\n",
      "[('hakoda', 0.06769538), ('chief', 0.008157654), ('bato', 0.007822274), ('princess', 0.0064733103), ('feature', 0.006060525), ('pakku', 0.0053715473), ('white lotus', 0.005015552), ('ursa', 0.0045538032), ('village', 0.004548404), ('harbor', 0.0044059856), ('necklace', 0.004144998), ('pirate', 0.0038507718), ('waterbender', 0.0038300983), ('leader', 0.0035861193), ('daughter', 0.0033370524), ('admiral', 0.0032476257), ('lady', 0.003129868), ('silently', 0.0029893073), ('letter', 0.0029815119), ('member', 0.0026715624)] \n",
      "\n",
      "[('letter', 0.00871285), ('izumi', 0.007372582), ('ursa', 0.0052810456), ('marry', 0.005273713), ('daughter', 0.0048020096), ('princess', 0.004719785), ('servant', 0.0046741297), ('garden', 0.0044769454), ('li', 0.0041114674), ('ambassador', 0.0039743735), ('lady', 0.0037121112), ('lord', 0.0036183423), ('advisor', 0.0036088785), ('baby', 0.0035545672), ('scroll', 0.0034857271), ('throne', 0.003077441), ('crown', 0.0029971718), ('husband', 0.0028921627), ('king', 0.0028758252), ('council', 0.0028630951)] \n",
      "\n",
      "[('jet', 0.013761869), ('ty lee', 0.008654032), ('date', 0.0081342105), ('phone', 0.007953688), ('shit', 0.0061414465), ('school', 0.0053915293), ('counter', 0.004197399), ('class', 0.003909472), ('apartment', 0.003853202), ('kitchen', 0.0038176815), ('boyfriend', 0.0037347088), ('ursa', 0.0033740632), ('car', 0.0033541294), ('party', 0.0033247771), ('coffee', 0.0032664132), ('picture', 0.0031130253), ('couch', 0.003093593), ('music', 0.0030034606), ('glass', 0.0028268262), ('mom', 0.0027861227)] \n",
      "\n",
      "[('lee', 0.019828165), ('dai li', 0.00893846), ('nephew', 0.007107651), ('hakoda', 0.006371501), ('king', 0.0051145907), ('waterbender', 0.00502256), ('sir', 0.0047484203), ('sozin', 0.004473865), ('human', 0.0043359813), ('captain', 0.004307631), ('earthbender', 0.004284448), ('agent', 0.0041759056), ('airbender', 0.0038520605), ('kyoshi', 0.0036949413), ('lady', 0.0036839987), ('kuzon', 0.0036778077), ('enemy', 0.0035566303), ('ty lee', 0.0035277773), ('green', 0.003459651), ('agni', 0.0034365992)] \n",
      "\n",
      "[('lu ten', 0.03665534), ('ursa', 0.029203527), ('azulon', 0.018762972), ('grandfather', 0.014650879), ('nephew', 0.010114914), ('princess', 0.008180239), ('servant', 0.007858581), ('roku', 0.0070143193), ('cousin', 0.0064436747), ('zuzu', 0.0062586376), ('throne', 0.005530507), ('daughter', 0.0048904554), ('agni', 0.0043128207), ('crown', 0.0042678304), ('mom', 0.003791817), ('baby', 0.003635058), ('healer', 0.0035834038), ('court', 0.003577073), ('turtleduck', 0.003483315), ('game', 0.003459832)] \n",
      "\n"
     ]
    }
   ],
   "source": [
    "mod_2 = model_info_2[\"model\"]\n",
    "for i in range(mod_2.num_topics):\n",
    "    print(mod_2.show_topic(i, topn=20), \"\\n\")"
   ]
  },
  {
   "cell_type": "markdown",
   "metadata": {},
   "source": [
    "Model 2 seems to have fairly well-grouped topics!"
   ]
  },
  {
   "cell_type": "code",
   "execution_count": 17,
   "metadata": {
    "execution": {
     "iopub.execute_input": "2020-11-17T04:40:23.624588Z",
     "iopub.status.busy": "2020-11-17T04:40:23.624338Z",
     "iopub.status.idle": "2020-11-17T04:40:23.662031Z",
     "shell.execute_reply": "2020-11-17T04:40:23.661429Z",
     "shell.execute_reply.started": "2020-11-17T04:40:23.624561Z"
    },
    "scrolled": true
   },
   "outputs": [
    {
     "name": "stdout",
     "output_type": "stream",
     "text": [
      "[('yue', 0.009530093), ('fish', 0.0032167402), ('chief', 0.0031647927), ('sand', 0.0030818277), ('ocean', 0.0030097922), ('tent', 0.0029554453), ('snow', 0.0029227654), ('bender', 0.0026799412), ('waterbender', 0.0026044806), ('beach', 0.002561594), ('glow', 0.0024072512), ('sea', 0.0024047513), ('village', 0.002248884), ('fur', 0.0021251645), ('boat', 0.0019733098), ('waterbend', 0.0019544319), ('river', 0.0019527501), ('northern', 0.001900886), ('path', 0.0018778432), ('human', 0.0018557592)] \n",
      "\n",
      "[('blue spirit', 0.0039816294), ('mask', 0.0038722036), ('wound', 0.003157231), ('bandage', 0.0027920718), ('bowl', 0.0027117515), ('blade', 0.0026929288), ('breathing', 0.002566681), ('nightmare', 0.0024728186), ('injury', 0.0024477127), ('scratch', 0.0023896857), ('lung', 0.0023690986), ('sweat', 0.0022897415), ('cough', 0.0022518584), ('rib', 0.0022041749), ('heartbeat', 0.0021947229), ('thumb', 0.0021540388), ('spar', 0.0021384323), ('tighten', 0.0019627062), ('energy', 0.0019541818), ('pillow', 0.0019201547)] \n",
      "\n",
      "[('subject', 0.07789129), ('duke', 0.045101695), ('haru', 0.018759713), ('teo', 0.017167956), ('flower', 0.011531009), ('daddy', 0.009813866), ('petal', 0.006049607), ('cough', 0.0057868296), ('prison', 0.005077274), ('fountain', 0.0048762523), ('knife', 0.004395585), ('hawk', 0.004254168), ('parent', 0.0032136363), ('metal', 0.0029008759), ('things', 0.0027281016), ('argument', 0.0027219483), ('assassin', 0.0026898307), ('pirate', 0.0026839809), ('kitchen', 0.002569498), ('forgive', 0.0025503456)] \n",
      "\n",
      "[('prison', 0.009077829), ('piandao', 0.0071072155), ('village', 0.0066085183), ('cell', 0.0065504718), ('earthbend', 0.0062375516), ('earthbender', 0.0054079215), ('soldier', 0.0053639333), ('metal', 0.0052486216), ('prisoner', 0.0051802034), ('element', 0.004685783), ('waterbender', 0.004271086), ('money', 0.0038232475), ('create', 0.003805844), ('king', 0.0037915066), ('waterbend', 0.0037399998), ('warden', 0.0035811623), ('capture', 0.0035033824), ('parent', 0.0034890878), ('honor', 0.0034127408), ('town', 0.0034119906)] \n",
      "\n",
      "[('zhao', 0.008817502), ('airbender', 0.0051525156), ('soldier', 0.0041607223), ('lightning', 0.0041428274), ('bison', 0.003909164), ('realise', 0.0038906764), ('waterbender', 0.0038419373), ('capture', 0.0035575205), ('nephew', 0.0033642512), ('sparky', 0.00336231), ('airbend', 0.0031060611), ('prison', 0.0030907288), ('nonbender', 0.0029362317), ('agni kai', 0.0029156122), ('honor', 0.002830427), ('agni', 0.002776482), ('banish', 0.0025313722), ('teacher', 0.0024848874), ('bumi', 0.002448054), ('blast', 0.0023394472)] \n",
      "\n",
      "[('ty lee', 0.044246152), ('waterbender', 0.005508825), ('princess', 0.0046670833), ('mask', 0.004562044), ('street', 0.00455236), ('ursa', 0.004408161), ('daughter', 0.004070633), ('hall', 0.0038702541), ('mom', 0.003680712), ('jin', 0.003357056), ('jet', 0.003308725), ('yue', 0.0032456103), ('parent', 0.0031650201), ('lady', 0.003087438), ('servant', 0.0029362093), ('upper', 0.0029338994), ('lu ten', 0.0027580508), ('building', 0.0026037353), ('bison', 0.0025685253), ('courtyard', 0.0025537843)] \n",
      "\n",
      "[('hakoda', 0.06926512), ('chief', 0.00805516), ('bato', 0.0078974655), ('princess', 0.006468652), ('feature', 0.0060853125), ('pakku', 0.0051063765), ('white lotus', 0.005022049), ('village', 0.0045876564), ('harbor', 0.004440965), ('ursa', 0.0042325095), ('pirate', 0.003983811), ('necklace', 0.0037877618), ('waterbender', 0.0037870987), ('leader', 0.003657178), ('admiral', 0.0032100747), ('daughter', 0.0031972777), ('lady', 0.0031410814), ('letter', 0.0030016275), ('silently', 0.002985016), ('member', 0.002683869)] \n",
      "\n",
      "[('letter', 0.008841394), ('izumi', 0.0076162587), ('ursa', 0.0054658367), ('marry', 0.004981612), ('li', 0.0049710325), ('servant', 0.0048063053), ('daughter', 0.004562152), ('garden', 0.0045195296), ('princess', 0.0043817703), ('ambassador', 0.004130336), ('advisor', 0.00375342), ('lord', 0.0037297667), ('lady', 0.0035752335), ('scroll', 0.003566389), ('baby', 0.0033065306), ('throne', 0.0030641083), ('council', 0.0030001556), ('crown', 0.00296095), ('king', 0.0028680388), ('husband', 0.002750152)] \n",
      "\n",
      "[('jet', 0.05572584), ('ty lee', 0.020069486), ('ursa', 0.010600567), ('date', 0.0077886367), ('haru', 0.006432231), ('shit', 0.006244183), ('team', 0.004990818), ('boyfriend', 0.004691293), ('picture', 0.0046904813), ('mom', 0.0046747266), ('game', 0.0042702784), ('fan', 0.0038111163), ('song', 0.0038009381), ('school', 0.0037956184), ('competition', 0.0037442949), ('jin', 0.0037260395), ('relationship', 0.0035046241), ('phone', 0.0034489082), ('cute', 0.0034471643), ('li', 0.003151833)] \n",
      "\n",
      "[('lee', 0.020293564), ('dai li', 0.008750617), ('nephew', 0.007319182), ('hakoda', 0.0066461912), ('waterbender', 0.0050035072), ('sir', 0.0048323153), ('king', 0.0047599114), ('human', 0.0044924524), ('sozin', 0.004460108), ('captain', 0.004161888), ('earthbender', 0.0041383095), ('agent', 0.0040694526), ('airbender', 0.0038777897), ('ty lee', 0.0037470357), ('lady', 0.0037413742), ('kuzon', 0.0036833158), ('kyoshi', 0.0036281575), ('enemy', 0.003575578), ('kuei', 0.0035328113), ('green', 0.0035187334)] \n",
      "\n",
      "[('lu ten', 0.036509722), ('ursa', 0.02086848), ('azulon', 0.019163929), ('grandfather', 0.014553329), ('nephew', 0.011165588), ('princess', 0.008862599), ('roku', 0.0077739633), ('servant', 0.00760372), ('cousin', 0.006311437), ('throne', 0.0063087917), ('zuzu', 0.0058174264), ('crown', 0.0046069976), ('agni', 0.0040541976), ('daughter', 0.004032774), ('sozin', 0.0040162904), ('court', 0.0038963794), ('healer', 0.0036116194), ('game', 0.003442066), ('turtleduck', 0.0033427372), ('letter', 0.0032617648)] \n",
      "\n",
      "[('phone', 0.008985275), ('car', 0.0072641713), ('date', 0.006013505), ('school', 0.0057502557), ('shit', 0.0054098465), ('counter', 0.005001881), ('kitchen', 0.004838097), ('class', 0.004401465), ('coffee', 0.0041347356), ('paper', 0.0038432116), ('couch', 0.0038332103), ('apartment', 0.0038237022), ('glass', 0.0035902886), ('book', 0.0032846536), ('drive', 0.0032534306), ('street', 0.0029134417), ('god', 0.0029030112), ('party', 0.0028353056), ('pocket', 0.0026826025), ('music', 0.0024957194)] \n",
      "\n"
     ]
    }
   ],
   "source": [
    "mod_3 = model_info_3[\"model\"]\n",
    "for i in range(mod_3.num_topics):\n",
    "    print(mod_3.show_topic(i, topn=20), \"\\n\")"
   ]
  },
  {
   "cell_type": "code",
   "execution_count": 16,
   "metadata": {
    "execution": {
     "iopub.execute_input": "2020-11-17T04:40:20.388751Z",
     "iopub.status.busy": "2020-11-17T04:40:20.388527Z",
     "iopub.status.idle": "2020-11-17T04:40:20.424244Z",
     "shell.execute_reply": "2020-11-17T04:40:20.423753Z",
     "shell.execute_reply.started": "2020-11-17T04:40:20.388726Z"
    },
    "scrolled": true
   },
   "outputs": [
    {
     "name": "stdout",
     "output_type": "stream",
     "text": [
      "[('ty lee', 0.03639176), ('letter', 0.006846755), ('marry', 0.00609534), ('princess', 0.0045019416), ('servant', 0.00364631), ('ambassador', 0.003522113), ('garden', 0.0033710748), ('throne', 0.0033708117), ('royal', 0.0033680575), ('lady', 0.0033506474), ('chief', 0.0032625394), ('relationship', 0.0032096137), ('baby', 0.0030548053), ('king', 0.0029774983), ('parent', 0.002895992), ('advisor', 0.002826797), ('bumi', 0.0028143683), ('daughter', 0.002812721), ('party', 0.0027870736), ('southern', 0.0027830324)] \n",
      "\n",
      "[('hakoda', 0.043646127), ('lu ten', 0.009712686), ('dragon', 0.00806481), ('ursa', 0.0073421425), ('princess', 0.006787869), ('azulon', 0.00612223), ('bato', 0.005404968), ('chief', 0.005386476), ('feature', 0.0053089866), ('white lotus', 0.0046216925), ('grandfather', 0.004573473), ('royal', 0.004235033), ('harbor', 0.0041295635), ('ship', 0.0039406572), ('southern', 0.0039030924), ('pakku', 0.0038750982), ('village', 0.0037707614), ('waterbender', 0.0034070606), ('leader', 0.0033759403), ('admiral', 0.003299924)] \n",
      "\n",
      "[('yue', 0.010989278), ('ice', 0.00679198), ('ship', 0.0050924756), ('chief', 0.004538942), ('southern', 0.0038986946), ('northern', 0.0030839161), ('snow', 0.0030796437), ('princess', 0.0030163287), ('lu ten', 0.002951914), ('moon', 0.002869098), ('tribe', 0.0028500834), ('waterbender', 0.0028363066), ('sword', 0.0027729284), ('bender', 0.0027352774), ('letter', 0.0024500254), ('ursa', 0.0023994006), ('healer', 0.0022975705), ('robe', 0.0022942289), ('hakoda', 0.002243361), ('boat', 0.00223583)] \n",
      "\n",
      "[('lee', 0.00773419), ('appa', 0.0065244115), ('waterbender', 0.0056084604), ('lower', 0.0041071894), ('dai li', 0.0036199857), ('earthbender', 0.0034789585), ('tree', 0.0034196507), ('bison', 0.003217525), ('mask', 0.00308042), ('dress', 0.0030574976), ('cell', 0.003023071), ('shop', 0.0029077854), ('parent', 0.00287987), ('nonbender', 0.0027881402), ('pirate', 0.0027693473), ('metal', 0.0027611868), ('sword', 0.0027359326), ('jet', 0.0026086268), ('mom', 0.0026019341), ('dance', 0.0025993402)] \n",
      "\n",
      "[('lee', 0.0108894985), ('subject', 0.010578988), ('dai li', 0.0065895747), ('nephew', 0.0059317313), ('hakoda', 0.0058724307), ('dragon', 0.0057807597), ('ship', 0.0048254277), ('kuzon', 0.004442062), ('human', 0.0043244963), ('sozin', 0.0042371037), ('ice', 0.0041720783), ('waterbender', 0.0040764273), ('captain', 0.003972209), ('stone', 0.0039116354), ('king', 0.0035485146), ('ty lee', 0.0035081285), ('earthbender', 0.0033813938), ('agent', 0.003261203), ('kuei', 0.0032259177), ('airbender', 0.0032248662)] \n",
      "\n",
      "[('dragon', 0.0052599665), ('flower', 0.00515129), ('dance', 0.004220458), ('sand', 0.0039954134), ('dream', 0.003610475), ('sea', 0.0035717601), ('moon', 0.003443886), ('tree', 0.0034382988), ('ursa', 0.0032893284), ('ocean', 0.0032138526), ('garden', 0.003049036), ('ship', 0.003046743), ('scroll', 0.0030154923), ('beach', 0.002980676), ('lightning', 0.0026377959), ('shadow', 0.0026273315), ('beneath', 0.0026001532), ('rain', 0.0025753116), ('necklace', 0.0025692394), ('stone', 0.0024769914)] \n",
      "\n",
      "[('sword', 0.0059819683), ('hakoda', 0.004841755), ('duke', 0.004126129), ('heal', 0.0035001314), ('appa', 0.0033996552), ('temple', 0.0031302036), ('mark', 0.002618988), ('um', 0.0023475755), ('stone', 0.002306095), ('prison', 0.002234464), ('blanket', 0.0019905972), ('sparky', 0.0019659468), ('zhao', 0.0019566624), ('tree', 0.001942789), ('blade', 0.0019093746), ('bowl', 0.001817061), ('tent', 0.0017706042), ('flinch', 0.0017553713), ('moon', 0.0017206438), ('capture', 0.0016969654)] \n",
      "\n",
      "[('jet', 0.12953323), ('ursa', 0.043420453), ('li', 0.025136298), ('fuck', 0.008587707), ('mom', 0.007968366), ('ty lee', 0.006541987), ('shit', 0.0057370435), ('apartment', 0.0048974617), ('phone', 0.0042507467), ('party', 0.003609593), ('parent', 0.0032470948), ('picture', 0.003181879), ('hurry', 0.0030913183), ('horrible', 0.002936337), ('hell', 0.0028378516), ('relationship', 0.0026923465), ('doctor', 0.0026900377), ('public', 0.0026344152), ('post', 0.0024935354), ('freedom', 0.0024847086)] \n",
      "\n",
      "[('appa', 0.010496548), ('ship', 0.0067884997), ('soldier', 0.0067057204), ('village', 0.006532054), ('waterbender', 0.0054099606), ('prison', 0.0047673252), ('earthbend', 0.0044232714), ('element', 0.004141427), ('earthbender', 0.004031003), ('sword', 0.0039377753), ('ty lee', 0.003788511), ('zhao', 0.003699847), ('king', 0.0036799407), ('waterbend', 0.0035166028), ('airbender', 0.0034411347), ('capture', 0.003341853), ('prisoner', 0.0033016722), ('warrior', 0.0031814266), ('island', 0.0030813674), ('kyoshi', 0.0030521716)] \n",
      "\n",
      "[('shop', 0.015440633), ('blue spirit', 0.010530367), ('lee', 0.010248365), ('counter', 0.008010028), ('mask', 0.008009649), ('street', 0.006352607), ('customer', 0.005721222), ('ring', 0.0049561197), ('jasmine dragon', 0.004933058), ('apartment', 0.004864783), ('paper', 0.00379992), ('kitchen', 0.003713176), ('sip', 0.0036488834), ('jin', 0.0034751394), ('nephew', 0.0033380801), ('glass', 0.0033251895), ('band', 0.0031152894), ('knife', 0.0030476295), ('song', 0.0029867836), ('bag', 0.0029553042)] \n",
      "\n",
      "[('izumi', 0.018533334), ('nephew', 0.009074404), ('daughter', 0.0071453755), ('agni', 0.006245243), ('baby', 0.005824611), ('sir', 0.0055718985), ('crown', 0.0052830675), ('servant', 0.0051709614), ('agni kai', 0.0048837694), ('lord', 0.004479773), ('princess', 0.004210891), ('robe', 0.004172584), ('sob', 0.0039642425), ('fuck', 0.003680056), ('zuzu', 0.0036514706), ('throne', 0.0036418424), ('husband', 0.00351421), ('lightning', 0.003351187), ('sick', 0.0032204671), ('protect', 0.0029164872)] \n",
      "\n",
      "[('phone', 0.007951672), ('fuck', 0.0076967254), ('car', 0.0061991634), ('date', 0.006126899), ('school', 0.0055313255), ('shit', 0.005313439), ('class', 0.0040817037), ('ty lee', 0.003856423), ('kitchen', 0.0034224994), ('drive', 0.002977914), ('couch', 0.0029477384), ('piandao', 0.0029290768), ('coffee', 0.002871824), ('book', 0.0028693033), ('boyfriend', 0.0027478545), ('picture', 0.0027274373), ('bag', 0.0026869373), ('um', 0.0026720741), ('haru', 0.0026397796), ('god', 0.0026321406)] \n",
      "\n"
     ]
    }
   ],
   "source": [
    "mod_4 = model_info_4[\"model\"]\n",
    "for i in range(mod_4.num_topics):\n",
    "    print(mod_4.show_topic(i, topn=20), \"\\n\")"
   ]
  },
  {
   "cell_type": "markdown",
   "metadata": {},
   "source": [
    "Models 3 and 4 are slightly worse than model 2, subjectively. "
   ]
  },
  {
   "cell_type": "markdown",
   "metadata": {},
   "source": [
    "We choose model 2 as our final model. We'll analyze the model and cluster the data points in [```4_cluster.ipynb```](4_cluster.ipynb)."
   ]
  },
  {
   "cell_type": "code",
   "execution_count": 18,
   "metadata": {
    "execution": {
     "iopub.execute_input": "2020-11-17T04:45:24.121432Z",
     "iopub.status.busy": "2020-11-17T04:45:24.121269Z",
     "iopub.status.idle": "2020-11-17T04:45:24.245440Z",
     "shell.execute_reply": "2020-11-17T04:45:24.244333Z",
     "shell.execute_reply.started": "2020-11-17T04:45:24.121415Z"
    }
   },
   "outputs": [],
   "source": [
    "model_info = model_info_2\n",
    "pickle.dump(model_info, open(\"../models/avatar_model.pickle\", \"wb\" ) )"
   ]
  }
 ],
 "metadata": {
  "kernelspec": {
   "display_name": "Python 3",
   "language": "python",
   "name": "python3"
  },
  "language_info": {
   "codemirror_mode": {
    "name": "ipython",
    "version": 3
   },
   "file_extension": ".py",
   "mimetype": "text/x-python",
   "name": "python",
   "nbconvert_exporter": "python",
   "pygments_lexer": "ipython3",
   "version": "3.8.2"
  }
 },
 "nbformat": 4,
 "nbformat_minor": 4
}
